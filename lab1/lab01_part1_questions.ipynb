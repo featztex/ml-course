{
  "cells": [
    {
      "cell_type": "markdown",
      "metadata": {
        "id": "gHAgb2bWFhF7"
      },
      "source": [
        "*Credits: materials from this notebook belong to YSDA [Practical DL](https://github.com/yandexdataschool/Practical_DL) course. Special thanks for making them available online.*"
      ]
    },
    {
      "cell_type": "markdown",
      "metadata": {
        "id": "NA2-muuuFhGA"
      },
      "source": [
        "# Lab assignment №1, part 1\n",
        "\n",
        "This lab assignment consists of several parts. You are supposed to make some transformations, train some models, estimate the quality of the models and explain your results.\n",
        "\n",
        "Several comments:\n",
        "* Don't hesitate to ask questions, it's a good practice.\n",
        "* No private/public sharing, please. The copied assignments will be graded with 0 points.\n",
        "* Blocks of this lab will be graded separately."
      ]
    },
    {
      "cell_type": "markdown",
      "metadata": {
        "id": "Njk8LJZaFhGB"
      },
      "source": [
        "## 1. Matrix differentiation"
      ]
    },
    {
      "cell_type": "markdown",
      "metadata": {
        "id": "NHM6y4nuFhGD"
      },
      "source": [
        "Since it easy to google every task please please please try to undestand what's going on. The \"just answer\" thing will be not counted, make sure to present derivation of your solution. It is absolutely OK if you found an answer on web then just exercise in $\\LaTeX$ copying it into here."
      ]
    },
    {
      "cell_type": "markdown",
      "metadata": {
        "id": "O7YP915zFhGD"
      },
      "source": [
        "Useful links:\n",
        "[1](http://www.machinelearning.ru/wiki/images/2/2a/Matrix-Gauss.pdf)\n",
        "[2](http://www.atmos.washington.edu/~dennis/MatrixCalculus.pdf)"
      ]
    },
    {
      "cell_type": "markdown",
      "metadata": {
        "id": "4P85czXGFhGE"
      },
      "source": [
        "## ex. 1"
      ]
    },
    {
      "cell_type": "markdown",
      "metadata": {
        "id": "hRGyIXkRFhGF"
      },
      "source": [
        "$$  \n",
        "y = x^Tx,  \\quad x \\in \\mathbb{R}^N\n",
        "$$"
      ]
    },
    {
      "cell_type": "markdown",
      "metadata": {
        "id": "Fn3B0-2tFhGG"
      },
      "source": [
        "$$\n",
        "\\frac{dy}{dx} =\n",
        "$$"
      ]
    },
    {
      "cell_type": "markdown",
      "metadata": {
        "id": "101zTidLFhGG"
      },
      "source": [
        "Решение:\n",
        "$$\n",
        "y(x) = \\sum \\limits_{i=1}^N x_i^2  \\Rightarrow \\dfrac{\\partial y}{\\partial x_i} = 2 x_i,\n",
        "$$\n",
        "$$\n",
        "\\nabla y(x) = 2 x.\n",
        "$$"
      ]
    },
    {
      "cell_type": "markdown",
      "metadata": {
        "id": "bIMp--hQFhGH"
      },
      "source": [
        "## ex. 2"
      ]
    },
    {
      "cell_type": "markdown",
      "metadata": {
        "id": "l_lwF9NEFhGH"
      },
      "source": [
        "$$ y = tr(AB) \\quad A,B \\in \\mathbb{R}^{N \\times N} $$"
      ]
    },
    {
      "cell_type": "markdown",
      "metadata": {
        "id": "QY-cHAA1FhGH"
      },
      "source": [
        "$$\n",
        "\\frac{dy}{dA} =\n",
        "$$"
      ]
    },
    {
      "cell_type": "markdown",
      "metadata": {
        "id": "dd2PLbBvFhGH"
      },
      "source": [
        "Решение:\n",
        "$$\n",
        "d(\\text{tr}(AB)) = \\langle I, d(AB) \\rangle = \\langle I, dA \\cdot B \\rangle = \\langle B^T, dA \\rangle,\n",
        "$$\n",
        "$$\n",
        "\\dfrac{dy}{dA} = B^T.\n",
        "$$"
      ]
    },
    {
      "cell_type": "markdown",
      "metadata": {
        "id": "7CJBonkFFhGI"
      },
      "source": [
        "## ex. 3"
      ]
    },
    {
      "cell_type": "markdown",
      "metadata": {
        "id": "_yJ-TS7uFhGI"
      },
      "source": [
        "$$  \n",
        "y = x^TAc , \\quad A\\in \\mathbb{R}^{N \\times N}, x\\in \\mathbb{R}^{N}, c\\in \\mathbb{R}^{N}\n",
        "$$"
      ]
    },
    {
      "cell_type": "markdown",
      "metadata": {
        "id": "GVf_UHF1FhGI"
      },
      "source": [
        "$$\n",
        "\\frac{dy}{dx} =\n",
        "$$"
      ]
    },
    {
      "cell_type": "markdown",
      "metadata": {
        "id": "Ja9x8XubFhGI"
      },
      "source": [
        "Решение:\n",
        "$$\n",
        "y = x^TAc = (Ac)^Tx \\Rightarrow \\dfrac{dy}{dx} = Ac.\n",
        "$$"
      ]
    },
    {
      "cell_type": "markdown",
      "metadata": {
        "id": "h2VS8Q5aFhGI"
      },
      "source": [
        "$$\n",
        "\\frac{dy}{dA} =\n",
        "$$"
      ]
    },
    {
      "cell_type": "markdown",
      "metadata": {
        "id": "B6d3hpfpFhGI"
      },
      "source": [
        "Hint for the latter (one of the ways): use *ex. 2* result and the fact\n",
        "$$\n",
        "tr(ABC) = tr (CAB)\n",
        "$$"
      ]
    },
    {
      "cell_type": "markdown",
      "metadata": {
        "id": "JFMG8th6FhGI"
      },
      "source": [
        "Решение:\n",
        "$$\n",
        "y = \\langle x, Ac \\rangle, \\; dy = \\langle x, dA \\cdot c \\rangle = \\langle xc^T, dA \\rangle,\n",
        "$$\n",
        "$$\n",
        "\\dfrac{dy}{dA} = xc^T.\n",
        "$$"
      ]
    },
    {
      "cell_type": "markdown",
      "metadata": {
        "id": "ZcbQNfToFhGJ"
      },
      "source": [
        "## ex. 4"
      ]
    },
    {
      "cell_type": "markdown",
      "metadata": {
        "id": "iqwxD_uSFhGJ"
      },
      "source": [
        "Classic matrix factorization example. Given matrix $X$ you need to find $A$, $S$ to approximate $X$. This can be done by simple gradient descent iteratively alternating $A$ and $S$ updates.\n",
        "$$\n",
        "J = || X - AS ||_F^2  , \\quad A\\in \\mathbb{R}^{N \\times R} , \\quad S\\in \\mathbb{R}^{R \\times M}\n",
        "$$\n",
        "$$\n",
        "\\frac{dJ}{dS} = ?\n",
        "$$\n",
        "\n",
        "You may use one of the following approaches:"
      ]
    },
    {
      "cell_type": "markdown",
      "metadata": {
        "id": "52XwRvRpFhGJ"
      },
      "source": [
        "#### First approach\n",
        "Using ex.2 and the fact:\n",
        "$$\n",
        "|| X ||_F^2 = tr(XX^T)\n",
        "$$\n",
        "it is easy to derive gradients (you can find it in one of the refs)."
      ]
    },
    {
      "cell_type": "markdown",
      "metadata": {
        "id": "kVTTMbgHFhGJ"
      },
      "source": [
        "#### Second approach\n",
        "You can use *slightly different techniques* if they suits you. Take a look at this derivation:\n",
        "\n",
        "<img src=\"/home/panzer/code/ml/lab1/grad.png\">\n",
        "\n",
        "\n",
        "(excerpt from [Handbook of blind source separation, Jutten, page 517](https://books.google.ru/books?id=PTbj03bYH6kC&printsec=frontcover&dq=Handbook+of+Blind+Source+Separation&hl=en&sa=X&ved=0ahUKEwi-q_apiJDLAhULvXIKHVXJDWcQ6AEIHDAA#v=onepage&q=Handbook%20of%20Blind%20Source%20Separation&f=false), open for better picture)."
      ]
    },
    {
      "cell_type": "markdown",
      "metadata": {
        "id": "owrezZ_pFhGJ"
      },
      "source": [
        "#### Third approach\n",
        "And finally we can use chain rule!\n",
        "let $ F = AS $\n",
        "\n",
        "**Find**\n",
        "$$\n",
        "\\frac{dJ}{dF} =  \n",
        "$$\n",
        "and\n",
        "$$\n",
        "\\frac{dF}{dS} =  \n",
        "$$\n",
        "(the shape should be $ NM \\times RM )$.\n",
        "\n",
        "Now it is easy do get desired gradients:\n",
        "$$\n",
        "\\frac{dJ}{dS} =  \n",
        "$$"
      ]
    },
    {
      "cell_type": "markdown",
      "metadata": {
        "id": "qtbB2UcHFhGJ"
      },
      "source": [
        "Решение:\n",
        "$$\n",
        "d \\left( \\text{tr} ((X-AS)(X-AS)^T) \\right) = \\langle I, d(X-AS) \\cdot (X-AS)^T\\rangle + \\langle I, (X-AS) \\cdot d(X-AS)^T \\rangle =\n",
        "$$\n",
        "$$\n",
        "= \\langle I, -AdS \\cdot (X-AS)^T \\rangle + \\langle I, (X-AS) \\cdot (-AdS)^T \\rangle = \\langle -A^T(X-AS), dS \\rangle + \\langle (X-AS)^T(-A), (dS)^T \\rangle =\n",
        "$$\n",
        "$$\n",
        "= \\langle -2A^T(X-AS), dS \\rangle.\n",
        "$$\n",
        "\n",
        "$$\n",
        "\\dfrac{dJ}{dS} = -2A^T(X-AS).\n",
        "$$"
      ]
    },
    {
      "cell_type": "markdown",
      "metadata": {
        "collapsed": true,
        "jupyter": {
          "outputs_hidden": true
        },
        "id": "5mZkkxWLFhGK"
      },
      "source": [
        "## 2. kNN questions\n",
        "Here come the questions from the assignment0_01. Please, refer to the assignment0_01 to get the context of the questions."
      ]
    },
    {
      "cell_type": "markdown",
      "metadata": {
        "id": "Qfu0uDMkFhGK"
      },
      "source": [
        "### Question 1\n",
        "\n",
        "Notice the structured patterns in the distance matrix, where some rows or columns are visible brighter. (Note that with the default color scheme black indicates low distances while white indicates high distances.)\n",
        "\n",
        "- What in the data is the cause behind the distinctly bright rows?\n",
        "- What causes the columns?\n",
        "\n",
        "*Your Answer:*\n",
        "\n",
        "Белые полосы означают значительную удаленность объекта от остальных, то есть это некий выброс, не похожий на остальные цифры.\n",
        "\n",
        "Яркий столбец - выброс в тестовых данных, удаленный от всех тренировочных точек.\n",
        "\n",
        "Яркая полоса - выброс в тренировочных данных, удаленный от всех тестовых точек.\n"
      ]
    },
    {
      "cell_type": "markdown",
      "metadata": {
        "id": "9jSeko4UFhGK"
      },
      "source": [
        "### Question 2\n",
        "\n",
        "We can also use other distance metrics such as L1 distance.\n",
        "For pixel values $p_{ij}^{(k)}$ at location $(i,j)$ of some image $I_k$,\n",
        "\n",
        "the mean $\\mu$ across all pixels over all images is $$\\mu=\\frac{1}{nhw}\\sum_{k=1}^n\\sum_{i=1}^{h}\\sum_{j=1}^{w}p_{ij}^{(k)}$$\n",
        "And the pixel-wise mean $\\mu_{ij}$ across all images is\n",
        "$$\\mu_{ij}=\\frac{1}{n}\\sum_{k=1}^np_{ij}^{(k)}.$$\n",
        "The general standard deviation $\\sigma$ and pixel-wise standard deviation $\\sigma_{ij}$ is defined similarly.\n",
        "\n",
        "Which of the following preprocessing steps will not change the performance of a Nearest Neighbor classifier that uses L1 distance? Select all that apply.\n",
        "1. Subtracting the mean $\\mu$ ($\\tilde{p}_{ij}^{(k)}=p_{ij}^{(k)}-\\mu$.)\n",
        "2. Subtracting the per pixel mean $\\mu_{ij}$  ($\\tilde{p}_{ij}^{(k)}=p_{ij}^{(k)}-\\mu_{ij}$.)\n",
        "3. Subtracting the mean $\\mu$ and dividing by the standard deviation $\\sigma$.\n",
        "4. Subtracting the pixel-wise mean $\\mu_{ij}$ and dividing by the pixel-wise standard deviation $\\sigma_{ij}$.\n",
        "5. Rotating the coordinate axes of the data.\n",
        "\n",
        "*Your Answer:*\n",
        "\n",
        "1, 2, 3, 5\n",
        "\n",
        "*Your Explanation:*\n",
        "\n",
        "1) Вычитание одного значения из всех пикселей никак не сказывается на расстоянии между объектами, а значит и на работе kNN:\n",
        "$$\n",
        "\\rho(I_p, I_q) = \\sum \\limits_i \\sum \\limits_j |p_{ij}^{(p)} - p_{ij}^{(q)}| = \\sum \\limits_i \\sum \\limits_j |(p_{ij}^{(p)} - \\mu) - (p_{ij}^{(q)} -\\mu)|\n",
        "$$\n",
        "\n",
        "2) Растянем $k$-ую матрицу пикселей в вектор $I_k$ длины  $h \\cdot w$. Определим вектор $\\overline{I} = \\frac{1}{n} \\sum \\limits_k I_k$, координаты которого есть соответствующие средние значения координат по всем картинкам. Тогда вычитание попиксельного среднего эквивалентно вычитанию вектора $\\overline{I}$ из исходного вектора $I_k$. Таким образом, это приведет к смещению всей выборки на единый вектор $\\overline{I}$, что не скажется на расстояниях между векторами.\n",
        "\n",
        "3) Деление на $\\sigma$ приводит лишь к растяжению пространства и не сказывается на отношении близости между его объектами: ближайшие объекты останутся ближайшими.\n",
        "\n",
        "4) Из значений $\\sigma_{ij}$ можно собрать вектор, ровно как $\\overline{I}$, то есть в нем на $k$-ом месте будет стоять дисперсия по $k$-ой координате, $1 \\leq k \\leq h \\cdot w$. Тогда деление на попиксельную дисперсию будет эквивалентно делению каждой координаты вектор-картинки на соответсвующую координату вектора дисперсий. Нетрудно привести пример из двупиксельных картинок: пусть их векторное представление есть (0, 0), (0, 1), (2, 0), (100, 0). До проведения этой процедуры ближайшей точкой к первой является вторая, но после деления на вектор дисперсий к ней станет ближе третья точка, ведь дисперсия по первой оси много больше.\n",
        "\n",
        "5) Поворот координатных осей не влияет на расстояние между точками."
      ]
    },
    {
      "cell_type": "markdown",
      "metadata": {
        "id": "28wISqJbFhGK"
      },
      "source": [
        "## Question 3\n",
        "\n",
        "Which of the following statements about $k$-Nearest Neighbor ($k$-NN) are true in a classification setting, and for all $k$? Select all that apply.\n",
        "1. The decision boundary (hyperplane between classes in feature space) of the k-NN classifier is linear.\n",
        "2. The training error of a 1-NN will always be lower than that of 5-NN.\n",
        "3. The test error of a 1-NN will always be lower than that of a 5-NN.\n",
        "4. The time needed to classify a test example with the k-NN classifier grows with the size of the training set.\n",
        "5. None of the above.\n",
        "\n",
        "*Your Answer:*\n",
        "\n",
        "2, 4\n",
        "\n",
        "*Your Explanation:*\n",
        "\n",
        "1) k-NN - метрический алгоритм, а не линейной классификации. Его разделяющая поверхность не является линейной (в общем случае) ни для какого $k$.\n",
        "\n",
        "2) 1-NN на тренировочной части имеет нулевую ошибку, в то время как 5-NN, в общем случае, неотрицательную.\n",
        "\n",
        "3) Неправда. Нет четкого правила, как бы зависело качество классификации от выбранного k: в некоторых задачах может оказаться лучше 1, в других - 5.\n",
        "\n",
        "4) Да, потому что придется считать большее число расстояний для определения соседей."
      ]
    }
  ],
  "metadata": {
    "kernelspec": {
      "display_name": "Python 3 (ipykernel)",
      "language": "python",
      "name": "python3"
    },
    "language_info": {
      "codemirror_mode": {
        "name": "ipython",
        "version": 3
      },
      "file_extension": ".py",
      "mimetype": "text/x-python",
      "name": "python",
      "nbconvert_exporter": "python",
      "pygments_lexer": "ipython3",
      "version": "3.8.10"
    },
    "colab": {
      "provenance": []
    }
  },
  "nbformat": 4,
  "nbformat_minor": 0
}