{
  "cells": [
    {
      "cell_type": "markdown",
      "metadata": {
        "nbgrader": {
          "grade": false,
          "grade_id": "cell-86e0de040aac317a",
          "locked": true,
          "schema_version": 2,
          "solution": false
        },
        "id": "K6GRKTQy3q-z"
      },
      "source": [
        "# Lab assignment №1, part 2\n",
        "\n",
        "This lab assignment consists of several parts. You are supposed to make some transformations, train some models, estimate the quality of the models and explain your results.\n",
        "\n",
        "Several comments:\n",
        "* Don't hesitate to ask questions, it's a good practice.\n",
        "* No private/public sharing, please. The copied assignments will be graded with 0 points.\n",
        "* Blocks of this lab will be graded separately."
      ]
    },
    {
      "cell_type": "markdown",
      "metadata": {
        "id": "dN36JxrH3q-3"
      },
      "source": [
        "__*This is the second part of the assignment. First and third parts are waiting for you in the same directory.*__"
      ]
    },
    {
      "cell_type": "markdown",
      "metadata": {
        "nbgrader": {
          "grade": false,
          "grade_id": "cell-512ba712fc0fc065",
          "locked": true,
          "schema_version": 2,
          "solution": false
        },
        "id": "B9T3_M1c3q-4"
      },
      "source": [
        "## Part 2. Data preprocessing, model training and evaluation."
      ]
    },
    {
      "cell_type": "markdown",
      "metadata": {
        "nbgrader": {
          "grade": false,
          "grade_id": "cell-b656a4266174b009",
          "locked": true,
          "schema_version": 2,
          "solution": false
        },
        "id": "jCEUFBMw3q-4"
      },
      "source": [
        "### 1. Reading the data\n",
        "Today we work with the [dataset](https://archive.ics.uci.edu/ml/datasets/Statlog+%28Vehicle+Silhouettes%29), describing different cars for multiclass ($k=4$) classification problem. The data is available below."
      ]
    },
    {
      "cell_type": "code",
      "execution_count": null,
      "metadata": {
        "nbgrader": {
          "grade": false,
          "grade_id": "cell-eebac6bfdf73d0bc",
          "locked": true,
          "schema_version": 2,
          "solution": false
        },
        "colab": {
          "base_uri": "https://localhost:8080/"
        },
        "id": "MKIluWxG3q-4",
        "outputId": "63f3eca2-b568-4964-9835-cc09bf36ad14"
      },
      "outputs": [
        {
          "output_type": "stream",
          "name": "stdout",
          "text": [
            "(846, 19) (846,)\n",
            "(549, 19) (549,) (297, 19) (297,)\n"
          ]
        }
      ],
      "source": [
        "import pandas as pd\n",
        "import numpy as np\n",
        "from sklearn.model_selection import train_test_split\n",
        "import matplotlib.pyplot as plt\n",
        "\n",
        "dataset = pd.read_csv('car_data.csv', delimiter=',', header=None).values\n",
        "data = dataset[:, :-1].astype(int)\n",
        "target = dataset[:, -1]\n",
        "\n",
        "print(data.shape, target.shape)\n",
        "\n",
        "X_train, X_test, y_train, y_test = train_test_split(data, target, test_size=0.35)\n",
        "print(X_train.shape, y_train.shape, X_test.shape, y_test.shape)"
      ]
    },
    {
      "cell_type": "markdown",
      "metadata": {
        "nbgrader": {
          "grade": false,
          "grade_id": "cell-88b1a0f688568f2c",
          "locked": true,
          "schema_version": 2,
          "solution": false
        },
        "id": "xKO2rFrd3q-7"
      },
      "source": [
        "To get some insights about the dataset, `pandas` might be used. The `train` part is transformed to `pd.DataFrame` below."
      ]
    },
    {
      "cell_type": "code",
      "execution_count": null,
      "metadata": {
        "colab": {
          "base_uri": "https://localhost:8080/",
          "height": 519
        },
        "id": "tFdD2nng3q-7",
        "outputId": "32b77599-fcd2-4dde-ff48-d6d52403aba3"
      },
      "outputs": [
        {
          "output_type": "execute_result",
          "data": {
            "text/plain": [
              "     0    1   2    3    4   5   6    7   8   9    10   11   12   13  14  15  \\\n",
              "0   427   86  38   89  176  59   9  169  39  20  132  190  428  148  67   7   \n",
              "1   197   82  44   72  150  64   7  154  44  19  144  181  350  177  80   0   \n",
              "2   157   93  42   70  131  56   7  127  53  18  145  156  240  152  74   5   \n",
              "3   324   94  38   88  179  60   7  170  39  21  131  188  435  144  66   2   \n",
              "4    38  106  53   98  176  54  10  216  31  24  171  235  691  218  74   1   \n",
              "5   411   78  36   51  116  56   4  120  57  17  124  135  209  135  84   1   \n",
              "6   544   88  43   70  177  74  19  152  44  19  143  180  342  168  76   1   \n",
              "7   579   84  38   66  138  62   6  126  54  18  132  144  232  139  70   4   \n",
              "8   321  113  57  109  194  56   6  260  26  28  175  288  982  261  85  11   \n",
              "9   528   95  47   73  195  70   7  167  38  20  152  184  430  185  69   9   \n",
              "10  663   89  47   83  169  61   8  164  40  20  150  189  402  190  72   7   \n",
              "11  244   85  47   75  121  53   9  157  44  20  165  168  358  176  77   1   \n",
              "12  536  102  55  101  213  67  12  222  30  25  177  226  719  213  71   2   \n",
              "13  770   80  44   68  120  53   8  151  45  19  146  170  333  190  80   4   \n",
              "14  553   86  45   66  126  57   8  148  46  19  145  170  321  186  86   0   \n",
              "\n",
              "    16   17   18  \n",
              "0   33  193  202  \n",
              "1   16  183  187  \n",
              "2    4  189  190  \n",
              "3   28  195  204  \n",
              "4    9  187  197  \n",
              "5   12  177  184  \n",
              "6    9  186  189  \n",
              "7    7  185  190  \n",
              "8   21  182  183  \n",
              "9   19  200  206  \n",
              "10  10  187  193  \n",
              "11   7  182  191  \n",
              "12  21  187  199  \n",
              "13  16  180  185  \n",
              "14   7  179  182  "
            ],
            "text/html": [
              "\n",
              "  <div id=\"df-cebe453e-ee7d-4042-9efe-18c00b2f1c57\" class=\"colab-df-container\">\n",
              "    <div>\n",
              "<style scoped>\n",
              "    .dataframe tbody tr th:only-of-type {\n",
              "        vertical-align: middle;\n",
              "    }\n",
              "\n",
              "    .dataframe tbody tr th {\n",
              "        vertical-align: top;\n",
              "    }\n",
              "\n",
              "    .dataframe thead th {\n",
              "        text-align: right;\n",
              "    }\n",
              "</style>\n",
              "<table border=\"1\" class=\"dataframe\">\n",
              "  <thead>\n",
              "    <tr style=\"text-align: right;\">\n",
              "      <th></th>\n",
              "      <th>0</th>\n",
              "      <th>1</th>\n",
              "      <th>2</th>\n",
              "      <th>3</th>\n",
              "      <th>4</th>\n",
              "      <th>5</th>\n",
              "      <th>6</th>\n",
              "      <th>7</th>\n",
              "      <th>8</th>\n",
              "      <th>9</th>\n",
              "      <th>10</th>\n",
              "      <th>11</th>\n",
              "      <th>12</th>\n",
              "      <th>13</th>\n",
              "      <th>14</th>\n",
              "      <th>15</th>\n",
              "      <th>16</th>\n",
              "      <th>17</th>\n",
              "      <th>18</th>\n",
              "    </tr>\n",
              "  </thead>\n",
              "  <tbody>\n",
              "    <tr>\n",
              "      <th>0</th>\n",
              "      <td>427</td>\n",
              "      <td>86</td>\n",
              "      <td>38</td>\n",
              "      <td>89</td>\n",
              "      <td>176</td>\n",
              "      <td>59</td>\n",
              "      <td>9</td>\n",
              "      <td>169</td>\n",
              "      <td>39</td>\n",
              "      <td>20</td>\n",
              "      <td>132</td>\n",
              "      <td>190</td>\n",
              "      <td>428</td>\n",
              "      <td>148</td>\n",
              "      <td>67</td>\n",
              "      <td>7</td>\n",
              "      <td>33</td>\n",
              "      <td>193</td>\n",
              "      <td>202</td>\n",
              "    </tr>\n",
              "    <tr>\n",
              "      <th>1</th>\n",
              "      <td>197</td>\n",
              "      <td>82</td>\n",
              "      <td>44</td>\n",
              "      <td>72</td>\n",
              "      <td>150</td>\n",
              "      <td>64</td>\n",
              "      <td>7</td>\n",
              "      <td>154</td>\n",
              "      <td>44</td>\n",
              "      <td>19</td>\n",
              "      <td>144</td>\n",
              "      <td>181</td>\n",
              "      <td>350</td>\n",
              "      <td>177</td>\n",
              "      <td>80</td>\n",
              "      <td>0</td>\n",
              "      <td>16</td>\n",
              "      <td>183</td>\n",
              "      <td>187</td>\n",
              "    </tr>\n",
              "    <tr>\n",
              "      <th>2</th>\n",
              "      <td>157</td>\n",
              "      <td>93</td>\n",
              "      <td>42</td>\n",
              "      <td>70</td>\n",
              "      <td>131</td>\n",
              "      <td>56</td>\n",
              "      <td>7</td>\n",
              "      <td>127</td>\n",
              "      <td>53</td>\n",
              "      <td>18</td>\n",
              "      <td>145</td>\n",
              "      <td>156</td>\n",
              "      <td>240</td>\n",
              "      <td>152</td>\n",
              "      <td>74</td>\n",
              "      <td>5</td>\n",
              "      <td>4</td>\n",
              "      <td>189</td>\n",
              "      <td>190</td>\n",
              "    </tr>\n",
              "    <tr>\n",
              "      <th>3</th>\n",
              "      <td>324</td>\n",
              "      <td>94</td>\n",
              "      <td>38</td>\n",
              "      <td>88</td>\n",
              "      <td>179</td>\n",
              "      <td>60</td>\n",
              "      <td>7</td>\n",
              "      <td>170</td>\n",
              "      <td>39</td>\n",
              "      <td>21</td>\n",
              "      <td>131</td>\n",
              "      <td>188</td>\n",
              "      <td>435</td>\n",
              "      <td>144</td>\n",
              "      <td>66</td>\n",
              "      <td>2</td>\n",
              "      <td>28</td>\n",
              "      <td>195</td>\n",
              "      <td>204</td>\n",
              "    </tr>\n",
              "    <tr>\n",
              "      <th>4</th>\n",
              "      <td>38</td>\n",
              "      <td>106</td>\n",
              "      <td>53</td>\n",
              "      <td>98</td>\n",
              "      <td>176</td>\n",
              "      <td>54</td>\n",
              "      <td>10</td>\n",
              "      <td>216</td>\n",
              "      <td>31</td>\n",
              "      <td>24</td>\n",
              "      <td>171</td>\n",
              "      <td>235</td>\n",
              "      <td>691</td>\n",
              "      <td>218</td>\n",
              "      <td>74</td>\n",
              "      <td>1</td>\n",
              "      <td>9</td>\n",
              "      <td>187</td>\n",
              "      <td>197</td>\n",
              "    </tr>\n",
              "    <tr>\n",
              "      <th>5</th>\n",
              "      <td>411</td>\n",
              "      <td>78</td>\n",
              "      <td>36</td>\n",
              "      <td>51</td>\n",
              "      <td>116</td>\n",
              "      <td>56</td>\n",
              "      <td>4</td>\n",
              "      <td>120</td>\n",
              "      <td>57</td>\n",
              "      <td>17</td>\n",
              "      <td>124</td>\n",
              "      <td>135</td>\n",
              "      <td>209</td>\n",
              "      <td>135</td>\n",
              "      <td>84</td>\n",
              "      <td>1</td>\n",
              "      <td>12</td>\n",
              "      <td>177</td>\n",
              "      <td>184</td>\n",
              "    </tr>\n",
              "    <tr>\n",
              "      <th>6</th>\n",
              "      <td>544</td>\n",
              "      <td>88</td>\n",
              "      <td>43</td>\n",
              "      <td>70</td>\n",
              "      <td>177</td>\n",
              "      <td>74</td>\n",
              "      <td>19</td>\n",
              "      <td>152</td>\n",
              "      <td>44</td>\n",
              "      <td>19</td>\n",
              "      <td>143</td>\n",
              "      <td>180</td>\n",
              "      <td>342</td>\n",
              "      <td>168</td>\n",
              "      <td>76</td>\n",
              "      <td>1</td>\n",
              "      <td>9</td>\n",
              "      <td>186</td>\n",
              "      <td>189</td>\n",
              "    </tr>\n",
              "    <tr>\n",
              "      <th>7</th>\n",
              "      <td>579</td>\n",
              "      <td>84</td>\n",
              "      <td>38</td>\n",
              "      <td>66</td>\n",
              "      <td>138</td>\n",
              "      <td>62</td>\n",
              "      <td>6</td>\n",
              "      <td>126</td>\n",
              "      <td>54</td>\n",
              "      <td>18</td>\n",
              "      <td>132</td>\n",
              "      <td>144</td>\n",
              "      <td>232</td>\n",
              "      <td>139</td>\n",
              "      <td>70</td>\n",
              "      <td>4</td>\n",
              "      <td>7</td>\n",
              "      <td>185</td>\n",
              "      <td>190</td>\n",
              "    </tr>\n",
              "    <tr>\n",
              "      <th>8</th>\n",
              "      <td>321</td>\n",
              "      <td>113</td>\n",
              "      <td>57</td>\n",
              "      <td>109</td>\n",
              "      <td>194</td>\n",
              "      <td>56</td>\n",
              "      <td>6</td>\n",
              "      <td>260</td>\n",
              "      <td>26</td>\n",
              "      <td>28</td>\n",
              "      <td>175</td>\n",
              "      <td>288</td>\n",
              "      <td>982</td>\n",
              "      <td>261</td>\n",
              "      <td>85</td>\n",
              "      <td>11</td>\n",
              "      <td>21</td>\n",
              "      <td>182</td>\n",
              "      <td>183</td>\n",
              "    </tr>\n",
              "    <tr>\n",
              "      <th>9</th>\n",
              "      <td>528</td>\n",
              "      <td>95</td>\n",
              "      <td>47</td>\n",
              "      <td>73</td>\n",
              "      <td>195</td>\n",
              "      <td>70</td>\n",
              "      <td>7</td>\n",
              "      <td>167</td>\n",
              "      <td>38</td>\n",
              "      <td>20</td>\n",
              "      <td>152</td>\n",
              "      <td>184</td>\n",
              "      <td>430</td>\n",
              "      <td>185</td>\n",
              "      <td>69</td>\n",
              "      <td>9</td>\n",
              "      <td>19</td>\n",
              "      <td>200</td>\n",
              "      <td>206</td>\n",
              "    </tr>\n",
              "    <tr>\n",
              "      <th>10</th>\n",
              "      <td>663</td>\n",
              "      <td>89</td>\n",
              "      <td>47</td>\n",
              "      <td>83</td>\n",
              "      <td>169</td>\n",
              "      <td>61</td>\n",
              "      <td>8</td>\n",
              "      <td>164</td>\n",
              "      <td>40</td>\n",
              "      <td>20</td>\n",
              "      <td>150</td>\n",
              "      <td>189</td>\n",
              "      <td>402</td>\n",
              "      <td>190</td>\n",
              "      <td>72</td>\n",
              "      <td>7</td>\n",
              "      <td>10</td>\n",
              "      <td>187</td>\n",
              "      <td>193</td>\n",
              "    </tr>\n",
              "    <tr>\n",
              "      <th>11</th>\n",
              "      <td>244</td>\n",
              "      <td>85</td>\n",
              "      <td>47</td>\n",
              "      <td>75</td>\n",
              "      <td>121</td>\n",
              "      <td>53</td>\n",
              "      <td>9</td>\n",
              "      <td>157</td>\n",
              "      <td>44</td>\n",
              "      <td>20</td>\n",
              "      <td>165</td>\n",
              "      <td>168</td>\n",
              "      <td>358</td>\n",
              "      <td>176</td>\n",
              "      <td>77</td>\n",
              "      <td>1</td>\n",
              "      <td>7</td>\n",
              "      <td>182</td>\n",
              "      <td>191</td>\n",
              "    </tr>\n",
              "    <tr>\n",
              "      <th>12</th>\n",
              "      <td>536</td>\n",
              "      <td>102</td>\n",
              "      <td>55</td>\n",
              "      <td>101</td>\n",
              "      <td>213</td>\n",
              "      <td>67</td>\n",
              "      <td>12</td>\n",
              "      <td>222</td>\n",
              "      <td>30</td>\n",
              "      <td>25</td>\n",
              "      <td>177</td>\n",
              "      <td>226</td>\n",
              "      <td>719</td>\n",
              "      <td>213</td>\n",
              "      <td>71</td>\n",
              "      <td>2</td>\n",
              "      <td>21</td>\n",
              "      <td>187</td>\n",
              "      <td>199</td>\n",
              "    </tr>\n",
              "    <tr>\n",
              "      <th>13</th>\n",
              "      <td>770</td>\n",
              "      <td>80</td>\n",
              "      <td>44</td>\n",
              "      <td>68</td>\n",
              "      <td>120</td>\n",
              "      <td>53</td>\n",
              "      <td>8</td>\n",
              "      <td>151</td>\n",
              "      <td>45</td>\n",
              "      <td>19</td>\n",
              "      <td>146</td>\n",
              "      <td>170</td>\n",
              "      <td>333</td>\n",
              "      <td>190</td>\n",
              "      <td>80</td>\n",
              "      <td>4</td>\n",
              "      <td>16</td>\n",
              "      <td>180</td>\n",
              "      <td>185</td>\n",
              "    </tr>\n",
              "    <tr>\n",
              "      <th>14</th>\n",
              "      <td>553</td>\n",
              "      <td>86</td>\n",
              "      <td>45</td>\n",
              "      <td>66</td>\n",
              "      <td>126</td>\n",
              "      <td>57</td>\n",
              "      <td>8</td>\n",
              "      <td>148</td>\n",
              "      <td>46</td>\n",
              "      <td>19</td>\n",
              "      <td>145</td>\n",
              "      <td>170</td>\n",
              "      <td>321</td>\n",
              "      <td>186</td>\n",
              "      <td>86</td>\n",
              "      <td>0</td>\n",
              "      <td>7</td>\n",
              "      <td>179</td>\n",
              "      <td>182</td>\n",
              "    </tr>\n",
              "  </tbody>\n",
              "</table>\n",
              "</div>\n",
              "    <div class=\"colab-df-buttons\">\n",
              "\n",
              "  <div class=\"colab-df-container\">\n",
              "    <button class=\"colab-df-convert\" onclick=\"convertToInteractive('df-cebe453e-ee7d-4042-9efe-18c00b2f1c57')\"\n",
              "            title=\"Convert this dataframe to an interactive table.\"\n",
              "            style=\"display:none;\">\n",
              "\n",
              "  <svg xmlns=\"http://www.w3.org/2000/svg\" height=\"24px\" viewBox=\"0 -960 960 960\">\n",
              "    <path d=\"M120-120v-720h720v720H120Zm60-500h600v-160H180v160Zm220 220h160v-160H400v160Zm0 220h160v-160H400v160ZM180-400h160v-160H180v160Zm440 0h160v-160H620v160ZM180-180h160v-160H180v160Zm440 0h160v-160H620v160Z\"/>\n",
              "  </svg>\n",
              "    </button>\n",
              "\n",
              "  <style>\n",
              "    .colab-df-container {\n",
              "      display:flex;\n",
              "      gap: 12px;\n",
              "    }\n",
              "\n",
              "    .colab-df-convert {\n",
              "      background-color: #E8F0FE;\n",
              "      border: none;\n",
              "      border-radius: 50%;\n",
              "      cursor: pointer;\n",
              "      display: none;\n",
              "      fill: #1967D2;\n",
              "      height: 32px;\n",
              "      padding: 0 0 0 0;\n",
              "      width: 32px;\n",
              "    }\n",
              "\n",
              "    .colab-df-convert:hover {\n",
              "      background-color: #E2EBFA;\n",
              "      box-shadow: 0px 1px 2px rgba(60, 64, 67, 0.3), 0px 1px 3px 1px rgba(60, 64, 67, 0.15);\n",
              "      fill: #174EA6;\n",
              "    }\n",
              "\n",
              "    .colab-df-buttons div {\n",
              "      margin-bottom: 4px;\n",
              "    }\n",
              "\n",
              "    [theme=dark] .colab-df-convert {\n",
              "      background-color: #3B4455;\n",
              "      fill: #D2E3FC;\n",
              "    }\n",
              "\n",
              "    [theme=dark] .colab-df-convert:hover {\n",
              "      background-color: #434B5C;\n",
              "      box-shadow: 0px 1px 3px 1px rgba(0, 0, 0, 0.15);\n",
              "      filter: drop-shadow(0px 1px 2px rgba(0, 0, 0, 0.3));\n",
              "      fill: #FFFFFF;\n",
              "    }\n",
              "  </style>\n",
              "\n",
              "    <script>\n",
              "      const buttonEl =\n",
              "        document.querySelector('#df-cebe453e-ee7d-4042-9efe-18c00b2f1c57 button.colab-df-convert');\n",
              "      buttonEl.style.display =\n",
              "        google.colab.kernel.accessAllowed ? 'block' : 'none';\n",
              "\n",
              "      async function convertToInteractive(key) {\n",
              "        const element = document.querySelector('#df-cebe453e-ee7d-4042-9efe-18c00b2f1c57');\n",
              "        const dataTable =\n",
              "          await google.colab.kernel.invokeFunction('convertToInteractive',\n",
              "                                                    [key], {});\n",
              "        if (!dataTable) return;\n",
              "\n",
              "        const docLinkHtml = 'Like what you see? Visit the ' +\n",
              "          '<a target=\"_blank\" href=https://colab.research.google.com/notebooks/data_table.ipynb>data table notebook</a>'\n",
              "          + ' to learn more about interactive tables.';\n",
              "        element.innerHTML = '';\n",
              "        dataTable['output_type'] = 'display_data';\n",
              "        await google.colab.output.renderOutput(dataTable, element);\n",
              "        const docLink = document.createElement('div');\n",
              "        docLink.innerHTML = docLinkHtml;\n",
              "        element.appendChild(docLink);\n",
              "      }\n",
              "    </script>\n",
              "  </div>\n",
              "\n",
              "\n",
              "<div id=\"df-620bfcc9-c00f-4daf-9c09-39457ba50465\">\n",
              "  <button class=\"colab-df-quickchart\" onclick=\"quickchart('df-620bfcc9-c00f-4daf-9c09-39457ba50465')\"\n",
              "            title=\"Suggest charts.\"\n",
              "            style=\"display:none;\">\n",
              "\n",
              "<svg xmlns=\"http://www.w3.org/2000/svg\" height=\"24px\"viewBox=\"0 0 24 24\"\n",
              "     width=\"24px\">\n",
              "    <g>\n",
              "        <path d=\"M19 3H5c-1.1 0-2 .9-2 2v14c0 1.1.9 2 2 2h14c1.1 0 2-.9 2-2V5c0-1.1-.9-2-2-2zM9 17H7v-7h2v7zm4 0h-2V7h2v10zm4 0h-2v-4h2v4z\"/>\n",
              "    </g>\n",
              "</svg>\n",
              "  </button>\n",
              "\n",
              "<style>\n",
              "  .colab-df-quickchart {\n",
              "      --bg-color: #E8F0FE;\n",
              "      --fill-color: #1967D2;\n",
              "      --hover-bg-color: #E2EBFA;\n",
              "      --hover-fill-color: #174EA6;\n",
              "      --disabled-fill-color: #AAA;\n",
              "      --disabled-bg-color: #DDD;\n",
              "  }\n",
              "\n",
              "  [theme=dark] .colab-df-quickchart {\n",
              "      --bg-color: #3B4455;\n",
              "      --fill-color: #D2E3FC;\n",
              "      --hover-bg-color: #434B5C;\n",
              "      --hover-fill-color: #FFFFFF;\n",
              "      --disabled-bg-color: #3B4455;\n",
              "      --disabled-fill-color: #666;\n",
              "  }\n",
              "\n",
              "  .colab-df-quickchart {\n",
              "    background-color: var(--bg-color);\n",
              "    border: none;\n",
              "    border-radius: 50%;\n",
              "    cursor: pointer;\n",
              "    display: none;\n",
              "    fill: var(--fill-color);\n",
              "    height: 32px;\n",
              "    padding: 0;\n",
              "    width: 32px;\n",
              "  }\n",
              "\n",
              "  .colab-df-quickchart:hover {\n",
              "    background-color: var(--hover-bg-color);\n",
              "    box-shadow: 0 1px 2px rgba(60, 64, 67, 0.3), 0 1px 3px 1px rgba(60, 64, 67, 0.15);\n",
              "    fill: var(--button-hover-fill-color);\n",
              "  }\n",
              "\n",
              "  .colab-df-quickchart-complete:disabled,\n",
              "  .colab-df-quickchart-complete:disabled:hover {\n",
              "    background-color: var(--disabled-bg-color);\n",
              "    fill: var(--disabled-fill-color);\n",
              "    box-shadow: none;\n",
              "  }\n",
              "\n",
              "  .colab-df-spinner {\n",
              "    border: 2px solid var(--fill-color);\n",
              "    border-color: transparent;\n",
              "    border-bottom-color: var(--fill-color);\n",
              "    animation:\n",
              "      spin 1s steps(1) infinite;\n",
              "  }\n",
              "\n",
              "  @keyframes spin {\n",
              "    0% {\n",
              "      border-color: transparent;\n",
              "      border-bottom-color: var(--fill-color);\n",
              "      border-left-color: var(--fill-color);\n",
              "    }\n",
              "    20% {\n",
              "      border-color: transparent;\n",
              "      border-left-color: var(--fill-color);\n",
              "      border-top-color: var(--fill-color);\n",
              "    }\n",
              "    30% {\n",
              "      border-color: transparent;\n",
              "      border-left-color: var(--fill-color);\n",
              "      border-top-color: var(--fill-color);\n",
              "      border-right-color: var(--fill-color);\n",
              "    }\n",
              "    40% {\n",
              "      border-color: transparent;\n",
              "      border-right-color: var(--fill-color);\n",
              "      border-top-color: var(--fill-color);\n",
              "    }\n",
              "    60% {\n",
              "      border-color: transparent;\n",
              "      border-right-color: var(--fill-color);\n",
              "    }\n",
              "    80% {\n",
              "      border-color: transparent;\n",
              "      border-right-color: var(--fill-color);\n",
              "      border-bottom-color: var(--fill-color);\n",
              "    }\n",
              "    90% {\n",
              "      border-color: transparent;\n",
              "      border-bottom-color: var(--fill-color);\n",
              "    }\n",
              "  }\n",
              "</style>\n",
              "\n",
              "  <script>\n",
              "    async function quickchart(key) {\n",
              "      const quickchartButtonEl =\n",
              "        document.querySelector('#' + key + ' button');\n",
              "      quickchartButtonEl.disabled = true;  // To prevent multiple clicks.\n",
              "      quickchartButtonEl.classList.add('colab-df-spinner');\n",
              "      try {\n",
              "        const charts = await google.colab.kernel.invokeFunction(\n",
              "            'suggestCharts', [key], {});\n",
              "      } catch (error) {\n",
              "        console.error('Error during call to suggestCharts:', error);\n",
              "      }\n",
              "      quickchartButtonEl.classList.remove('colab-df-spinner');\n",
              "      quickchartButtonEl.classList.add('colab-df-quickchart-complete');\n",
              "    }\n",
              "    (() => {\n",
              "      let quickchartButtonEl =\n",
              "        document.querySelector('#df-620bfcc9-c00f-4daf-9c09-39457ba50465 button');\n",
              "      quickchartButtonEl.style.display =\n",
              "        google.colab.kernel.accessAllowed ? 'block' : 'none';\n",
              "    })();\n",
              "  </script>\n",
              "</div>\n",
              "    </div>\n",
              "  </div>\n"
            ]
          },
          "metadata": {},
          "execution_count": 5
        }
      ],
      "source": [
        "X_train_pd = pd.DataFrame(X_train)\n",
        "\n",
        "# First 15 rows of our dataset.\n",
        "X_train_pd.head(15)"
      ]
    },
    {
      "cell_type": "markdown",
      "metadata": {
        "nbgrader": {
          "grade": false,
          "grade_id": "cell-98e7d91d77d65fcf",
          "locked": true,
          "schema_version": 2,
          "solution": false
        },
        "id": "OBRG3Caq3q-7"
      },
      "source": [
        "Methods `describe` and `info` deliver some useful information."
      ]
    },
    {
      "cell_type": "code",
      "execution_count": null,
      "metadata": {
        "colab": {
          "base_uri": "https://localhost:8080/",
          "height": 320
        },
        "id": "Ve7x_UsB3q-8",
        "outputId": "f831d1fe-8810-478e-ecbb-53d019eef8b8"
      },
      "outputs": [
        {
          "output_type": "execute_result",
          "data": {
            "text/plain": [
              "               0           1           2           3           4           5   \\\n",
              "count  549.000000  549.000000  549.000000  549.000000  549.000000  549.000000   \n",
              "mean   423.020036   93.555556   44.788707   81.526412  168.007286   61.735883   \n",
              "std    240.663805    8.330267    6.153376   15.518465   33.562285    8.127710   \n",
              "min      0.000000   76.000000   33.000000   40.000000  110.000000   47.000000   \n",
              "25%    216.000000   87.000000   40.000000   70.000000  140.000000   57.000000   \n",
              "50%    427.000000   92.000000   44.000000   78.000000  166.000000   61.000000   \n",
              "75%    626.000000  100.000000   49.000000   96.000000  194.000000   65.000000   \n",
              "max    844.000000  119.000000   59.000000  110.000000  322.000000  133.000000   \n",
              "\n",
              "               6           7           8           9           10          11  \\\n",
              "count  549.000000  549.000000  549.000000  549.000000  549.000000  549.000000   \n",
              "mean     8.564663  167.963570   41.156648   20.517304  147.876138  188.029144   \n",
              "std      4.833912   33.270547    7.761327    2.598106   14.533599   31.168588   \n",
              "min      2.000000  112.000000   26.000000   17.000000  118.000000  130.000000   \n",
              "25%      7.000000  146.000000   33.000000   19.000000  137.000000  167.000000   \n",
              "50%      8.000000  155.000000   43.000000   19.000000  146.000000  177.000000   \n",
              "75%     10.000000  197.000000   46.000000   23.000000  159.000000  217.000000   \n",
              "max     55.000000  262.000000   61.000000   28.000000  188.000000  288.000000   \n",
              "\n",
              "               12          13          14          15          16          17  \\\n",
              "count  549.000000  549.000000  549.000000  549.000000  549.000000  549.000000   \n",
              "mean   435.344262  174.775956   72.670310    6.289617   12.387978  188.786885   \n",
              "std    177.421042   32.473556    7.256174    5.001268    9.126080    6.127011   \n",
              "min    184.000000  112.000000   60.000000    0.000000    0.000000  177.000000   \n",
              "25%    318.000000  150.000000   67.000000    2.000000    5.000000  184.000000   \n",
              "50%    357.000000  173.000000   72.000000    5.000000   11.000000  188.000000   \n",
              "75%    578.000000  198.000000   76.000000    9.000000   18.000000  193.000000   \n",
              "max    998.000000  268.000000  119.000000   22.000000   41.000000  206.000000   \n",
              "\n",
              "               18  \n",
              "count  549.000000  \n",
              "mean   195.409836  \n",
              "std      7.558143  \n",
              "min    181.000000  \n",
              "25%    190.000000  \n",
              "50%    197.000000  \n",
              "75%    201.000000  \n",
              "max    211.000000  "
            ],
            "text/html": [
              "\n",
              "  <div id=\"df-fbb9cf94-5cfc-41df-bbff-17b761bc29d1\" class=\"colab-df-container\">\n",
              "    <div>\n",
              "<style scoped>\n",
              "    .dataframe tbody tr th:only-of-type {\n",
              "        vertical-align: middle;\n",
              "    }\n",
              "\n",
              "    .dataframe tbody tr th {\n",
              "        vertical-align: top;\n",
              "    }\n",
              "\n",
              "    .dataframe thead th {\n",
              "        text-align: right;\n",
              "    }\n",
              "</style>\n",
              "<table border=\"1\" class=\"dataframe\">\n",
              "  <thead>\n",
              "    <tr style=\"text-align: right;\">\n",
              "      <th></th>\n",
              "      <th>0</th>\n",
              "      <th>1</th>\n",
              "      <th>2</th>\n",
              "      <th>3</th>\n",
              "      <th>4</th>\n",
              "      <th>5</th>\n",
              "      <th>6</th>\n",
              "      <th>7</th>\n",
              "      <th>8</th>\n",
              "      <th>9</th>\n",
              "      <th>10</th>\n",
              "      <th>11</th>\n",
              "      <th>12</th>\n",
              "      <th>13</th>\n",
              "      <th>14</th>\n",
              "      <th>15</th>\n",
              "      <th>16</th>\n",
              "      <th>17</th>\n",
              "      <th>18</th>\n",
              "    </tr>\n",
              "  </thead>\n",
              "  <tbody>\n",
              "    <tr>\n",
              "      <th>count</th>\n",
              "      <td>549.000000</td>\n",
              "      <td>549.000000</td>\n",
              "      <td>549.000000</td>\n",
              "      <td>549.000000</td>\n",
              "      <td>549.000000</td>\n",
              "      <td>549.000000</td>\n",
              "      <td>549.000000</td>\n",
              "      <td>549.000000</td>\n",
              "      <td>549.000000</td>\n",
              "      <td>549.000000</td>\n",
              "      <td>549.000000</td>\n",
              "      <td>549.000000</td>\n",
              "      <td>549.000000</td>\n",
              "      <td>549.000000</td>\n",
              "      <td>549.000000</td>\n",
              "      <td>549.000000</td>\n",
              "      <td>549.000000</td>\n",
              "      <td>549.000000</td>\n",
              "      <td>549.000000</td>\n",
              "    </tr>\n",
              "    <tr>\n",
              "      <th>mean</th>\n",
              "      <td>423.020036</td>\n",
              "      <td>93.555556</td>\n",
              "      <td>44.788707</td>\n",
              "      <td>81.526412</td>\n",
              "      <td>168.007286</td>\n",
              "      <td>61.735883</td>\n",
              "      <td>8.564663</td>\n",
              "      <td>167.963570</td>\n",
              "      <td>41.156648</td>\n",
              "      <td>20.517304</td>\n",
              "      <td>147.876138</td>\n",
              "      <td>188.029144</td>\n",
              "      <td>435.344262</td>\n",
              "      <td>174.775956</td>\n",
              "      <td>72.670310</td>\n",
              "      <td>6.289617</td>\n",
              "      <td>12.387978</td>\n",
              "      <td>188.786885</td>\n",
              "      <td>195.409836</td>\n",
              "    </tr>\n",
              "    <tr>\n",
              "      <th>std</th>\n",
              "      <td>240.663805</td>\n",
              "      <td>8.330267</td>\n",
              "      <td>6.153376</td>\n",
              "      <td>15.518465</td>\n",
              "      <td>33.562285</td>\n",
              "      <td>8.127710</td>\n",
              "      <td>4.833912</td>\n",
              "      <td>33.270547</td>\n",
              "      <td>7.761327</td>\n",
              "      <td>2.598106</td>\n",
              "      <td>14.533599</td>\n",
              "      <td>31.168588</td>\n",
              "      <td>177.421042</td>\n",
              "      <td>32.473556</td>\n",
              "      <td>7.256174</td>\n",
              "      <td>5.001268</td>\n",
              "      <td>9.126080</td>\n",
              "      <td>6.127011</td>\n",
              "      <td>7.558143</td>\n",
              "    </tr>\n",
              "    <tr>\n",
              "      <th>min</th>\n",
              "      <td>0.000000</td>\n",
              "      <td>76.000000</td>\n",
              "      <td>33.000000</td>\n",
              "      <td>40.000000</td>\n",
              "      <td>110.000000</td>\n",
              "      <td>47.000000</td>\n",
              "      <td>2.000000</td>\n",
              "      <td>112.000000</td>\n",
              "      <td>26.000000</td>\n",
              "      <td>17.000000</td>\n",
              "      <td>118.000000</td>\n",
              "      <td>130.000000</td>\n",
              "      <td>184.000000</td>\n",
              "      <td>112.000000</td>\n",
              "      <td>60.000000</td>\n",
              "      <td>0.000000</td>\n",
              "      <td>0.000000</td>\n",
              "      <td>177.000000</td>\n",
              "      <td>181.000000</td>\n",
              "    </tr>\n",
              "    <tr>\n",
              "      <th>25%</th>\n",
              "      <td>216.000000</td>\n",
              "      <td>87.000000</td>\n",
              "      <td>40.000000</td>\n",
              "      <td>70.000000</td>\n",
              "      <td>140.000000</td>\n",
              "      <td>57.000000</td>\n",
              "      <td>7.000000</td>\n",
              "      <td>146.000000</td>\n",
              "      <td>33.000000</td>\n",
              "      <td>19.000000</td>\n",
              "      <td>137.000000</td>\n",
              "      <td>167.000000</td>\n",
              "      <td>318.000000</td>\n",
              "      <td>150.000000</td>\n",
              "      <td>67.000000</td>\n",
              "      <td>2.000000</td>\n",
              "      <td>5.000000</td>\n",
              "      <td>184.000000</td>\n",
              "      <td>190.000000</td>\n",
              "    </tr>\n",
              "    <tr>\n",
              "      <th>50%</th>\n",
              "      <td>427.000000</td>\n",
              "      <td>92.000000</td>\n",
              "      <td>44.000000</td>\n",
              "      <td>78.000000</td>\n",
              "      <td>166.000000</td>\n",
              "      <td>61.000000</td>\n",
              "      <td>8.000000</td>\n",
              "      <td>155.000000</td>\n",
              "      <td>43.000000</td>\n",
              "      <td>19.000000</td>\n",
              "      <td>146.000000</td>\n",
              "      <td>177.000000</td>\n",
              "      <td>357.000000</td>\n",
              "      <td>173.000000</td>\n",
              "      <td>72.000000</td>\n",
              "      <td>5.000000</td>\n",
              "      <td>11.000000</td>\n",
              "      <td>188.000000</td>\n",
              "      <td>197.000000</td>\n",
              "    </tr>\n",
              "    <tr>\n",
              "      <th>75%</th>\n",
              "      <td>626.000000</td>\n",
              "      <td>100.000000</td>\n",
              "      <td>49.000000</td>\n",
              "      <td>96.000000</td>\n",
              "      <td>194.000000</td>\n",
              "      <td>65.000000</td>\n",
              "      <td>10.000000</td>\n",
              "      <td>197.000000</td>\n",
              "      <td>46.000000</td>\n",
              "      <td>23.000000</td>\n",
              "      <td>159.000000</td>\n",
              "      <td>217.000000</td>\n",
              "      <td>578.000000</td>\n",
              "      <td>198.000000</td>\n",
              "      <td>76.000000</td>\n",
              "      <td>9.000000</td>\n",
              "      <td>18.000000</td>\n",
              "      <td>193.000000</td>\n",
              "      <td>201.000000</td>\n",
              "    </tr>\n",
              "    <tr>\n",
              "      <th>max</th>\n",
              "      <td>844.000000</td>\n",
              "      <td>119.000000</td>\n",
              "      <td>59.000000</td>\n",
              "      <td>110.000000</td>\n",
              "      <td>322.000000</td>\n",
              "      <td>133.000000</td>\n",
              "      <td>55.000000</td>\n",
              "      <td>262.000000</td>\n",
              "      <td>61.000000</td>\n",
              "      <td>28.000000</td>\n",
              "      <td>188.000000</td>\n",
              "      <td>288.000000</td>\n",
              "      <td>998.000000</td>\n",
              "      <td>268.000000</td>\n",
              "      <td>119.000000</td>\n",
              "      <td>22.000000</td>\n",
              "      <td>41.000000</td>\n",
              "      <td>206.000000</td>\n",
              "      <td>211.000000</td>\n",
              "    </tr>\n",
              "  </tbody>\n",
              "</table>\n",
              "</div>\n",
              "    <div class=\"colab-df-buttons\">\n",
              "\n",
              "  <div class=\"colab-df-container\">\n",
              "    <button class=\"colab-df-convert\" onclick=\"convertToInteractive('df-fbb9cf94-5cfc-41df-bbff-17b761bc29d1')\"\n",
              "            title=\"Convert this dataframe to an interactive table.\"\n",
              "            style=\"display:none;\">\n",
              "\n",
              "  <svg xmlns=\"http://www.w3.org/2000/svg\" height=\"24px\" viewBox=\"0 -960 960 960\">\n",
              "    <path d=\"M120-120v-720h720v720H120Zm60-500h600v-160H180v160Zm220 220h160v-160H400v160Zm0 220h160v-160H400v160ZM180-400h160v-160H180v160Zm440 0h160v-160H620v160ZM180-180h160v-160H180v160Zm440 0h160v-160H620v160Z\"/>\n",
              "  </svg>\n",
              "    </button>\n",
              "\n",
              "  <style>\n",
              "    .colab-df-container {\n",
              "      display:flex;\n",
              "      gap: 12px;\n",
              "    }\n",
              "\n",
              "    .colab-df-convert {\n",
              "      background-color: #E8F0FE;\n",
              "      border: none;\n",
              "      border-radius: 50%;\n",
              "      cursor: pointer;\n",
              "      display: none;\n",
              "      fill: #1967D2;\n",
              "      height: 32px;\n",
              "      padding: 0 0 0 0;\n",
              "      width: 32px;\n",
              "    }\n",
              "\n",
              "    .colab-df-convert:hover {\n",
              "      background-color: #E2EBFA;\n",
              "      box-shadow: 0px 1px 2px rgba(60, 64, 67, 0.3), 0px 1px 3px 1px rgba(60, 64, 67, 0.15);\n",
              "      fill: #174EA6;\n",
              "    }\n",
              "\n",
              "    .colab-df-buttons div {\n",
              "      margin-bottom: 4px;\n",
              "    }\n",
              "\n",
              "    [theme=dark] .colab-df-convert {\n",
              "      background-color: #3B4455;\n",
              "      fill: #D2E3FC;\n",
              "    }\n",
              "\n",
              "    [theme=dark] .colab-df-convert:hover {\n",
              "      background-color: #434B5C;\n",
              "      box-shadow: 0px 1px 3px 1px rgba(0, 0, 0, 0.15);\n",
              "      filter: drop-shadow(0px 1px 2px rgba(0, 0, 0, 0.3));\n",
              "      fill: #FFFFFF;\n",
              "    }\n",
              "  </style>\n",
              "\n",
              "    <script>\n",
              "      const buttonEl =\n",
              "        document.querySelector('#df-fbb9cf94-5cfc-41df-bbff-17b761bc29d1 button.colab-df-convert');\n",
              "      buttonEl.style.display =\n",
              "        google.colab.kernel.accessAllowed ? 'block' : 'none';\n",
              "\n",
              "      async function convertToInteractive(key) {\n",
              "        const element = document.querySelector('#df-fbb9cf94-5cfc-41df-bbff-17b761bc29d1');\n",
              "        const dataTable =\n",
              "          await google.colab.kernel.invokeFunction('convertToInteractive',\n",
              "                                                    [key], {});\n",
              "        if (!dataTable) return;\n",
              "\n",
              "        const docLinkHtml = 'Like what you see? Visit the ' +\n",
              "          '<a target=\"_blank\" href=https://colab.research.google.com/notebooks/data_table.ipynb>data table notebook</a>'\n",
              "          + ' to learn more about interactive tables.';\n",
              "        element.innerHTML = '';\n",
              "        dataTable['output_type'] = 'display_data';\n",
              "        await google.colab.output.renderOutput(dataTable, element);\n",
              "        const docLink = document.createElement('div');\n",
              "        docLink.innerHTML = docLinkHtml;\n",
              "        element.appendChild(docLink);\n",
              "      }\n",
              "    </script>\n",
              "  </div>\n",
              "\n",
              "\n",
              "<div id=\"df-6407682e-3503-4c6e-91c9-f1f21b4755bc\">\n",
              "  <button class=\"colab-df-quickchart\" onclick=\"quickchart('df-6407682e-3503-4c6e-91c9-f1f21b4755bc')\"\n",
              "            title=\"Suggest charts.\"\n",
              "            style=\"display:none;\">\n",
              "\n",
              "<svg xmlns=\"http://www.w3.org/2000/svg\" height=\"24px\"viewBox=\"0 0 24 24\"\n",
              "     width=\"24px\">\n",
              "    <g>\n",
              "        <path d=\"M19 3H5c-1.1 0-2 .9-2 2v14c0 1.1.9 2 2 2h14c1.1 0 2-.9 2-2V5c0-1.1-.9-2-2-2zM9 17H7v-7h2v7zm4 0h-2V7h2v10zm4 0h-2v-4h2v4z\"/>\n",
              "    </g>\n",
              "</svg>\n",
              "  </button>\n",
              "\n",
              "<style>\n",
              "  .colab-df-quickchart {\n",
              "      --bg-color: #E8F0FE;\n",
              "      --fill-color: #1967D2;\n",
              "      --hover-bg-color: #E2EBFA;\n",
              "      --hover-fill-color: #174EA6;\n",
              "      --disabled-fill-color: #AAA;\n",
              "      --disabled-bg-color: #DDD;\n",
              "  }\n",
              "\n",
              "  [theme=dark] .colab-df-quickchart {\n",
              "      --bg-color: #3B4455;\n",
              "      --fill-color: #D2E3FC;\n",
              "      --hover-bg-color: #434B5C;\n",
              "      --hover-fill-color: #FFFFFF;\n",
              "      --disabled-bg-color: #3B4455;\n",
              "      --disabled-fill-color: #666;\n",
              "  }\n",
              "\n",
              "  .colab-df-quickchart {\n",
              "    background-color: var(--bg-color);\n",
              "    border: none;\n",
              "    border-radius: 50%;\n",
              "    cursor: pointer;\n",
              "    display: none;\n",
              "    fill: var(--fill-color);\n",
              "    height: 32px;\n",
              "    padding: 0;\n",
              "    width: 32px;\n",
              "  }\n",
              "\n",
              "  .colab-df-quickchart:hover {\n",
              "    background-color: var(--hover-bg-color);\n",
              "    box-shadow: 0 1px 2px rgba(60, 64, 67, 0.3), 0 1px 3px 1px rgba(60, 64, 67, 0.15);\n",
              "    fill: var(--button-hover-fill-color);\n",
              "  }\n",
              "\n",
              "  .colab-df-quickchart-complete:disabled,\n",
              "  .colab-df-quickchart-complete:disabled:hover {\n",
              "    background-color: var(--disabled-bg-color);\n",
              "    fill: var(--disabled-fill-color);\n",
              "    box-shadow: none;\n",
              "  }\n",
              "\n",
              "  .colab-df-spinner {\n",
              "    border: 2px solid var(--fill-color);\n",
              "    border-color: transparent;\n",
              "    border-bottom-color: var(--fill-color);\n",
              "    animation:\n",
              "      spin 1s steps(1) infinite;\n",
              "  }\n",
              "\n",
              "  @keyframes spin {\n",
              "    0% {\n",
              "      border-color: transparent;\n",
              "      border-bottom-color: var(--fill-color);\n",
              "      border-left-color: var(--fill-color);\n",
              "    }\n",
              "    20% {\n",
              "      border-color: transparent;\n",
              "      border-left-color: var(--fill-color);\n",
              "      border-top-color: var(--fill-color);\n",
              "    }\n",
              "    30% {\n",
              "      border-color: transparent;\n",
              "      border-left-color: var(--fill-color);\n",
              "      border-top-color: var(--fill-color);\n",
              "      border-right-color: var(--fill-color);\n",
              "    }\n",
              "    40% {\n",
              "      border-color: transparent;\n",
              "      border-right-color: var(--fill-color);\n",
              "      border-top-color: var(--fill-color);\n",
              "    }\n",
              "    60% {\n",
              "      border-color: transparent;\n",
              "      border-right-color: var(--fill-color);\n",
              "    }\n",
              "    80% {\n",
              "      border-color: transparent;\n",
              "      border-right-color: var(--fill-color);\n",
              "      border-bottom-color: var(--fill-color);\n",
              "    }\n",
              "    90% {\n",
              "      border-color: transparent;\n",
              "      border-bottom-color: var(--fill-color);\n",
              "    }\n",
              "  }\n",
              "</style>\n",
              "\n",
              "  <script>\n",
              "    async function quickchart(key) {\n",
              "      const quickchartButtonEl =\n",
              "        document.querySelector('#' + key + ' button');\n",
              "      quickchartButtonEl.disabled = true;  // To prevent multiple clicks.\n",
              "      quickchartButtonEl.classList.add('colab-df-spinner');\n",
              "      try {\n",
              "        const charts = await google.colab.kernel.invokeFunction(\n",
              "            'suggestCharts', [key], {});\n",
              "      } catch (error) {\n",
              "        console.error('Error during call to suggestCharts:', error);\n",
              "      }\n",
              "      quickchartButtonEl.classList.remove('colab-df-spinner');\n",
              "      quickchartButtonEl.classList.add('colab-df-quickchart-complete');\n",
              "    }\n",
              "    (() => {\n",
              "      let quickchartButtonEl =\n",
              "        document.querySelector('#df-6407682e-3503-4c6e-91c9-f1f21b4755bc button');\n",
              "      quickchartButtonEl.style.display =\n",
              "        google.colab.kernel.accessAllowed ? 'block' : 'none';\n",
              "    })();\n",
              "  </script>\n",
              "</div>\n",
              "    </div>\n",
              "  </div>\n"
            ]
          },
          "metadata": {},
          "execution_count": 6
        }
      ],
      "source": [
        "X_train_pd.describe()"
      ]
    },
    {
      "cell_type": "code",
      "execution_count": null,
      "metadata": {
        "colab": {
          "base_uri": "https://localhost:8080/"
        },
        "id": "7bVvv8rF3q-8",
        "outputId": "b88b4326-7e9a-4459-9628-c2bd679ebb23"
      },
      "outputs": [
        {
          "output_type": "stream",
          "name": "stdout",
          "text": [
            "<class 'pandas.core.frame.DataFrame'>\n",
            "RangeIndex: 549 entries, 0 to 548\n",
            "Data columns (total 19 columns):\n",
            " #   Column  Non-Null Count  Dtype\n",
            "---  ------  --------------  -----\n",
            " 0   0       549 non-null    int64\n",
            " 1   1       549 non-null    int64\n",
            " 2   2       549 non-null    int64\n",
            " 3   3       549 non-null    int64\n",
            " 4   4       549 non-null    int64\n",
            " 5   5       549 non-null    int64\n",
            " 6   6       549 non-null    int64\n",
            " 7   7       549 non-null    int64\n",
            " 8   8       549 non-null    int64\n",
            " 9   9       549 non-null    int64\n",
            " 10  10      549 non-null    int64\n",
            " 11  11      549 non-null    int64\n",
            " 12  12      549 non-null    int64\n",
            " 13  13      549 non-null    int64\n",
            " 14  14      549 non-null    int64\n",
            " 15  15      549 non-null    int64\n",
            " 16  16      549 non-null    int64\n",
            " 17  17      549 non-null    int64\n",
            " 18  18      549 non-null    int64\n",
            "dtypes: int64(19)\n",
            "memory usage: 81.6 KB\n"
          ]
        }
      ],
      "source": [
        "X_train_pd.info()"
      ]
    },
    {
      "cell_type": "markdown",
      "metadata": {
        "nbgrader": {
          "grade": false,
          "grade_id": "cell-be844269be69c387",
          "locked": true,
          "schema_version": 2,
          "solution": false
        },
        "id": "Mb-KtKv93q-9"
      },
      "source": [
        "### 2. Machine Learning pipeline\n",
        "Here you are supposed to perform the desired transformations. Please, explain your results briefly after each task."
      ]
    },
    {
      "cell_type": "markdown",
      "metadata": {
        "id": "l3kk4loL3q-9"
      },
      "source": [
        "#### 2.0. Data preprocessing\n",
        "* Make some transformations of the dataset (if necessary). Briefly explain the transformations"
      ]
    },
    {
      "cell_type": "markdown",
      "metadata": {
        "id": "-i8v4h_r3q-9"
      },
      "source": [
        "Признаки имеют сильно разный масштаб, поэтому отнормируем данные с помощью StandartScaler."
      ]
    },
    {
      "cell_type": "code",
      "execution_count": null,
      "metadata": {
        "nbgrader": {
          "grade": true,
          "grade_id": "cell-a1514aa189a49fca",
          "locked": false,
          "points": 15,
          "schema_version": 2,
          "solution": true
        },
        "id": "h1vSVX9I3q-9"
      },
      "outputs": [],
      "source": [
        "from sklearn.preprocessing import StandardScaler\n",
        "\n",
        "scaler = StandardScaler()\n",
        "X_train = scaler.fit_transform(X_train)\n",
        "X_test = scaler.fit_transform(X_test)"
      ]
    },
    {
      "cell_type": "code",
      "execution_count": null,
      "metadata": {
        "colab": {
          "base_uri": "https://localhost:8080/"
        },
        "id": "7UjnqRsH3q--",
        "outputId": "a838e65c-dfc1-47d4-abd8-71063a7e8d47"
      },
      "outputs": [
        {
          "output_type": "execute_result",
          "data": {
            "text/plain": [
              "(array(['bus', 'opel', 'saab', 'van'], dtype=object),\n",
              " array([154, 119, 146, 130]))"
            ]
          },
          "metadata": {},
          "execution_count": 8
        }
      ],
      "source": [
        "np.unique(y_train, return_counts=True)"
      ]
    },
    {
      "cell_type": "markdown",
      "metadata": {
        "id": "eilNxmKz3q--"
      },
      "source": [
        "Классы сбалансированы, поэтому взвешивать их не будем."
      ]
    },
    {
      "cell_type": "markdown",
      "metadata": {
        "id": "8L_qQ3Bh3q-_"
      },
      "source": [
        "#### 2.1. Basic logistic regression\n",
        "* Find optimal hyperparameters for logistic regression with cross-validation on the `train` data (small grid/random search is enough, no need to find the *best* parameters).\n",
        "\n",
        "* Estimate the model quality with `f1` and `accuracy` scores.\n",
        "* Plot a ROC-curve for the trained model. For the multiclass case you might use `scikitplot` library (e.g. `scikitplot.metrics.plot_roc(test_labels, predicted_proba)`).\n",
        "\n",
        "*Note: please, use the following hyperparameters for logistic regression: `multi_class='multinomial'`, `solver='saga'` `tol=1e-3` and ` max_iter=500`.*"
      ]
    },
    {
      "cell_type": "code",
      "execution_count": null,
      "metadata": {
        "id": "4T8HGeMo3q-_"
      },
      "outputs": [],
      "source": [
        "from sklearn.linear_model import LogisticRegression, LogisticRegressionCV\n",
        "from sklearn.model_selection import GridSearchCV\n",
        "from sklearn.metrics import f1_score, accuracy_score"
      ]
    },
    {
      "cell_type": "code",
      "execution_count": null,
      "metadata": {
        "nbgrader": {
          "grade": true,
          "grade_id": "cell-1dd5ad5d0845cbbb",
          "locked": false,
          "points": 5,
          "schema_version": 2,
          "solution": true
        },
        "id": "ojJDh0sT3q-_"
      },
      "outputs": [],
      "source": [
        "log_reg = LogisticRegression(\n",
        "    multi_class='multinomial',\n",
        "    solver='saga',\n",
        "    tol=1e-3,\n",
        "    max_iter=500\n",
        ")\n",
        "\n",
        "params = {\n",
        "    'penalty': ['l1', 'l2'],\n",
        "    'C': [1000, 500, 250, 100, 50]\n",
        "}\n",
        "\n",
        "gs = GridSearchCV(\n",
        "    estimator=log_reg,\n",
        "    param_grid=params,\n",
        "    scoring='f1_macro'\n",
        ")"
      ]
    },
    {
      "cell_type": "code",
      "execution_count": null,
      "metadata": {
        "colab": {
          "base_uri": "https://localhost:8080/"
        },
        "id": "wXIiaLoL3q_A",
        "outputId": "d0f54da8-4bb3-4cc8-f926-5f12fa35b0c1"
      },
      "outputs": [
        {
          "output_type": "stream",
          "name": "stdout",
          "text": [
            "Best params: {'C': 250, 'penalty': 'l2'}\n"
          ]
        }
      ],
      "source": [
        "gs.fit(X_train, y_train)\n",
        "print(f\"Best params: {gs.best_params_}\")"
      ]
    },
    {
      "cell_type": "code",
      "source": [
        "log_reg_opt = LogisticRegressionCV(\n",
        "    multi_class='multinomial',\n",
        "    solver='saga',\n",
        "    tol=1e-3,\n",
        "    max_iter=500,\n",
        "    Cs=gs.best_params_['C'],\n",
        "    penalty=gs.best_params_['penalty'],\n",
        "    cv=10\n",
        ")"
      ],
      "metadata": {
        "id": "OR-JNYWL5tmW"
      },
      "execution_count": null,
      "outputs": []
    },
    {
      "cell_type": "code",
      "source": [
        "log_reg_opt.fit(X_train, y_train)"
      ],
      "metadata": {
        "colab": {
          "base_uri": "https://localhost:8080/",
          "height": 92
        },
        "id": "KT3BkNkI9F_8",
        "outputId": "78b54277-7c1d-4bf1-e6f1-a971e13fb04e"
      },
      "execution_count": null,
      "outputs": [
        {
          "output_type": "execute_result",
          "data": {
            "text/plain": [
              "LogisticRegressionCV(Cs=250, cv=10, max_iter=500, multi_class='multinomial',\n",
              "                     solver='saga', tol=0.001)"
            ],
            "text/html": [
              "<style>#sk-container-id-1 {color: black;background-color: white;}#sk-container-id-1 pre{padding: 0;}#sk-container-id-1 div.sk-toggleable {background-color: white;}#sk-container-id-1 label.sk-toggleable__label {cursor: pointer;display: block;width: 100%;margin-bottom: 0;padding: 0.3em;box-sizing: border-box;text-align: center;}#sk-container-id-1 label.sk-toggleable__label-arrow:before {content: \"▸\";float: left;margin-right: 0.25em;color: #696969;}#sk-container-id-1 label.sk-toggleable__label-arrow:hover:before {color: black;}#sk-container-id-1 div.sk-estimator:hover label.sk-toggleable__label-arrow:before {color: black;}#sk-container-id-1 div.sk-toggleable__content {max-height: 0;max-width: 0;overflow: hidden;text-align: left;background-color: #f0f8ff;}#sk-container-id-1 div.sk-toggleable__content pre {margin: 0.2em;color: black;border-radius: 0.25em;background-color: #f0f8ff;}#sk-container-id-1 input.sk-toggleable__control:checked~div.sk-toggleable__content {max-height: 200px;max-width: 100%;overflow: auto;}#sk-container-id-1 input.sk-toggleable__control:checked~label.sk-toggleable__label-arrow:before {content: \"▾\";}#sk-container-id-1 div.sk-estimator input.sk-toggleable__control:checked~label.sk-toggleable__label {background-color: #d4ebff;}#sk-container-id-1 div.sk-label input.sk-toggleable__control:checked~label.sk-toggleable__label {background-color: #d4ebff;}#sk-container-id-1 input.sk-hidden--visually {border: 0;clip: rect(1px 1px 1px 1px);clip: rect(1px, 1px, 1px, 1px);height: 1px;margin: -1px;overflow: hidden;padding: 0;position: absolute;width: 1px;}#sk-container-id-1 div.sk-estimator {font-family: monospace;background-color: #f0f8ff;border: 1px dotted black;border-radius: 0.25em;box-sizing: border-box;margin-bottom: 0.5em;}#sk-container-id-1 div.sk-estimator:hover {background-color: #d4ebff;}#sk-container-id-1 div.sk-parallel-item::after {content: \"\";width: 100%;border-bottom: 1px solid gray;flex-grow: 1;}#sk-container-id-1 div.sk-label:hover label.sk-toggleable__label {background-color: #d4ebff;}#sk-container-id-1 div.sk-serial::before {content: \"\";position: absolute;border-left: 1px solid gray;box-sizing: border-box;top: 0;bottom: 0;left: 50%;z-index: 0;}#sk-container-id-1 div.sk-serial {display: flex;flex-direction: column;align-items: center;background-color: white;padding-right: 0.2em;padding-left: 0.2em;position: relative;}#sk-container-id-1 div.sk-item {position: relative;z-index: 1;}#sk-container-id-1 div.sk-parallel {display: flex;align-items: stretch;justify-content: center;background-color: white;position: relative;}#sk-container-id-1 div.sk-item::before, #sk-container-id-1 div.sk-parallel-item::before {content: \"\";position: absolute;border-left: 1px solid gray;box-sizing: border-box;top: 0;bottom: 0;left: 50%;z-index: -1;}#sk-container-id-1 div.sk-parallel-item {display: flex;flex-direction: column;z-index: 1;position: relative;background-color: white;}#sk-container-id-1 div.sk-parallel-item:first-child::after {align-self: flex-end;width: 50%;}#sk-container-id-1 div.sk-parallel-item:last-child::after {align-self: flex-start;width: 50%;}#sk-container-id-1 div.sk-parallel-item:only-child::after {width: 0;}#sk-container-id-1 div.sk-dashed-wrapped {border: 1px dashed gray;margin: 0 0.4em 0.5em 0.4em;box-sizing: border-box;padding-bottom: 0.4em;background-color: white;}#sk-container-id-1 div.sk-label label {font-family: monospace;font-weight: bold;display: inline-block;line-height: 1.2em;}#sk-container-id-1 div.sk-label-container {text-align: center;}#sk-container-id-1 div.sk-container {/* jupyter's `normalize.less` sets `[hidden] { display: none; }` but bootstrap.min.css set `[hidden] { display: none !important; }` so we also need the `!important` here to be able to override the default hidden behavior on the sphinx rendered scikit-learn.org. See: https://github.com/scikit-learn/scikit-learn/issues/21755 */display: inline-block !important;position: relative;}#sk-container-id-1 div.sk-text-repr-fallback {display: none;}</style><div id=\"sk-container-id-1\" class=\"sk-top-container\"><div class=\"sk-text-repr-fallback\"><pre>LogisticRegressionCV(Cs=250, cv=10, max_iter=500, multi_class=&#x27;multinomial&#x27;,\n",
              "                     solver=&#x27;saga&#x27;, tol=0.001)</pre><b>In a Jupyter environment, please rerun this cell to show the HTML representation or trust the notebook. <br />On GitHub, the HTML representation is unable to render, please try loading this page with nbviewer.org.</b></div><div class=\"sk-container\" hidden><div class=\"sk-item\"><div class=\"sk-estimator sk-toggleable\"><input class=\"sk-toggleable__control sk-hidden--visually\" id=\"sk-estimator-id-1\" type=\"checkbox\" checked><label for=\"sk-estimator-id-1\" class=\"sk-toggleable__label sk-toggleable__label-arrow\">LogisticRegressionCV</label><div class=\"sk-toggleable__content\"><pre>LogisticRegressionCV(Cs=250, cv=10, max_iter=500, multi_class=&#x27;multinomial&#x27;,\n",
              "                     solver=&#x27;saga&#x27;, tol=0.001)</pre></div></div></div></div></div>"
            ]
          },
          "metadata": {},
          "execution_count": 11
        }
      ]
    },
    {
      "cell_type": "code",
      "source": [
        "def score(estimator, title=''):\n",
        "    if title:\n",
        "        print(title, '\\n')\n",
        "\n",
        "    preds_train = estimator.predict(X_train)\n",
        "    preds_test = estimator.predict(X_test)\n",
        "\n",
        "    print(\"f1-score\")\n",
        "    print(f\"Train: {round(f1_score(y_train, preds_train, average='macro'), 5)}\")\n",
        "    print(f\"Test: {round(f1_score(y_test, preds_test, average='macro'), 5)}\")\n",
        "    print(\"----------\")\n",
        "    print(\"Accuracy\")\n",
        "    print(f\"Train: {round(accuracy_score(y_train, preds_train), 5)}\")\n",
        "    print(f\"Test: {round(accuracy_score(y_test, preds_test), 5)}\")"
      ],
      "metadata": {
        "id": "G-yBBstbmZhz"
      },
      "execution_count": null,
      "outputs": []
    },
    {
      "cell_type": "code",
      "source": [
        "score(log_reg_opt, title='Optimal Logistic Regression')"
      ],
      "metadata": {
        "colab": {
          "base_uri": "https://localhost:8080/"
        },
        "id": "CkpM6cvZ9Jf0",
        "outputId": "9cf45654-74f2-4c3b-ed97-eb725f7ae37b"
      },
      "execution_count": null,
      "outputs": [
        {
          "output_type": "stream",
          "name": "stdout",
          "text": [
            "Optimal Logistic Regression \n",
            "\n",
            "f1-score\n",
            "Train: 0.8466\n",
            "Test: 0.79656\n",
            "----------\n",
            "Accuracy\n",
            "Train: 0.84699\n",
            "Test: 0.79125\n"
          ]
        }
      ]
    },
    {
      "cell_type": "code",
      "execution_count": null,
      "metadata": {
        "id": "1STY6RQ93q_B"
      },
      "outputs": [],
      "source": [
        "# You might use this command to install scikit-plot.\n",
        "# Warning, if you a running locally, don't call pip from within jupyter, call it from terminal in the corresponding\n",
        "# virtual environment instead\n",
        "\n",
        "! pip install scikit-plot"
      ]
    },
    {
      "cell_type": "code",
      "source": [
        "from scikitplot.metrics import plot_roc\n",
        "\n",
        "y_probas = log_reg_opt.predict_proba(X_test)\n",
        "plot_roc(y_test, y_probas, figsize=(12, 5))\n",
        "plt.show()"
      ],
      "metadata": {
        "colab": {
          "base_uri": "https://localhost:8080/",
          "height": 487
        },
        "id": "Ol7FihIBCkBl",
        "outputId": "99293350-3a9e-4a81-8fd6-d6f9d6944433"
      },
      "execution_count": null,
      "outputs": [
        {
          "output_type": "display_data",
          "data": {
            "text/plain": [
              "<Figure size 1200x500 with 1 Axes>"
            ],
            "image/png": "[encoded data removed]"
          },
          "metadata": {}
        }
      ]
    },
    {
      "cell_type": "markdown",
      "metadata": {
        "id": "mfkCYh_m3q_B"
      },
      "source": [
        "#### 2.2. PCA: explained variance plot\n",
        "* Apply the PCA to the train part of the data. Build the explaided variance plot."
      ]
    },
    {
      "cell_type": "code",
      "execution_count": null,
      "metadata": {
        "nbgrader": {
          "grade": true,
          "grade_id": "cell-c6c614740bce090e",
          "locked": false,
          "points": 10,
          "schema_version": 2,
          "solution": true
        },
        "id": "VrttXozq3q_B"
      },
      "outputs": [],
      "source": [
        "from sklearn.decomposition import PCA\n",
        "\n",
        "pca = PCA()\n",
        "X_train_pca = pca.fit_transform(X_train)\n",
        "\n",
        "exp_var_pca = pca.explained_variance_ratio_\n",
        "cum_sum_eigenvalues = np.cumsum(exp_var_pca)"
      ]
    },
    {
      "cell_type": "code",
      "source": [
        "plt.bar(range(0,len(exp_var_pca)), exp_var_pca, alpha=0.8, align='center', label='Individual explained variance')\n",
        "plt.step(range(0,len(cum_sum_eigenvalues)), cum_sum_eigenvalues, where='mid',label='Cumulative explained variance')\n",
        "\n",
        "bound = 0.995\n",
        "plt.axhline (y=bound, color='red', linestyle='--', label='Сut-off boundary')\n",
        "\n",
        "plt.ylabel('Explained variance ratio')\n",
        "plt.xlabel('Principal component index')\n",
        "plt.legend(loc='best')\n",
        "plt.tight_layout()\n",
        "plt.show()"
      ],
      "metadata": {
        "colab": {
          "base_uri": "https://localhost:8080/",
          "height": 487
        },
        "id": "a8dtc7y7GZ4l",
        "outputId": "802bbb1b-bf35-407a-d611-d590bf3c837b"
      },
      "execution_count": null,
      "outputs": [
        {
          "output_type": "display_data",
          "data": {
            "text/plain": [
              "<Figure size 640x480 with 1 Axes>"
            ],
            "image/png": "[encoded data removed]"
          },
          "metadata": {}
        }
      ]
    },
    {
      "cell_type": "code",
      "source": [
        "num_comp = 0\n",
        "for i, val in enumerate(cum_sum_eigenvalues):\n",
        "    if val > bound:\n",
        "        print(f'Explained variance ratio: {bound}')\n",
        "        num_comp = i\n",
        "        print(f'Selected number of components: {i}')\n",
        "        break"
      ],
      "metadata": {
        "colab": {
          "base_uri": "https://localhost:8080/"
        },
        "id": "v69AH_CIHz4l",
        "outputId": "2bdcfb8c-cac9-4c80-d2f7-3181108ca13b"
      },
      "execution_count": null,
      "outputs": [
        {
          "output_type": "stream",
          "name": "stdout",
          "text": [
            "Explained variance ratio: 0.995\n",
            "Selected number of components: 12\n"
          ]
        }
      ]
    },
    {
      "cell_type": "markdown",
      "metadata": {
        "nbgrader": {
          "grade": false,
          "grade_id": "cell-0c1fe666f52fe53c",
          "locked": true,
          "schema_version": 2,
          "solution": false
        },
        "id": "AS52A7XJ3q_B"
      },
      "source": [
        "#### 2.3. PCA trasformation\n",
        "* Select the appropriate number of components. Briefly explain your choice. Should you normalize the data?\n",
        "\n",
        "*Use `fit` and `transform` methods to transform the `train` and `test` parts.*"
      ]
    },
    {
      "cell_type": "markdown",
      "source": [
        "Перед использованием PCA обязательно нужно нормировать данные, ведь нас интересуют относительные дисперсии, а не абсолютные. Нормировка уже сделана выше."
      ],
      "metadata": {
        "id": "ely7_pZOJCSj"
      }
    },
    {
      "cell_type": "code",
      "execution_count": null,
      "metadata": {
        "nbgrader": {
          "grade": true,
          "grade_id": "cell-96ab18d96473ef71",
          "locked": false,
          "points": 5,
          "schema_version": 2,
          "solution": true
        },
        "id": "xIatrxLe3q_B"
      },
      "outputs": [],
      "source": [
        "pca = PCA(n_components=num_comp)\n",
        "X_train_pca = pca.fit_transform(X_train)\n",
        "X_test_pca = pca.transform(X_test)"
      ]
    },
    {
      "cell_type": "markdown",
      "metadata": {
        "id": "wRgRVScn3q_C"
      },
      "source": [
        "**Note: From this point `sklearn` [Pipeline](https://scikit-learn.org/stable/modules/compose.html) might be useful to perform transformations on the data. Refer to the [docs](https://scikit-learn.org/stable/modules/generated/sklearn.pipeline.Pipeline.html) for more information.**"
      ]
    },
    {
      "cell_type": "markdown",
      "metadata": {
        "nbgrader": {
          "grade": false,
          "grade_id": "cell-d28b58a35c94e988",
          "locked": true,
          "schema_version": 2,
          "solution": false
        },
        "id": "ftUu55SX3q_C"
      },
      "source": [
        "#### 2.4. Logistic regression on PCA-preprocessed data.\n",
        "* Find optimal hyperparameters for logistic regression with cross-validation on the transformed by PCA `train` data.\n",
        "\n",
        "* Estimate the model quality with `f1` and `accuracy` scores.\n",
        "* Plot a ROC-curve for the trained model. For the multiclass case you might use `scikitplot` library (e.g. `scikitplot.metrics.plot_roc(test_labels, predicted_proba)`).\n",
        "\n",
        "*Note: please, use the following hyperparameters for logistic regression: `multi_class='multinomial'`, `solver='saga'` and `tol=1e-3`*"
      ]
    },
    {
      "cell_type": "code",
      "execution_count": null,
      "metadata": {
        "nbgrader": {
          "grade": true,
          "grade_id": "cell-12d53ea45258fa82",
          "locked": false,
          "points": 5,
          "schema_version": 2,
          "solution": true
        },
        "colab": {
          "base_uri": "https://localhost:8080/",
          "height": 109
        },
        "id": "eakXtfh23q_C",
        "outputId": "6da7aaa8-5962-4774-88d6-8af1204999fe"
      },
      "outputs": [
        {
          "output_type": "stream",
          "name": "stdout",
          "text": [
            "Best params: {'C': 500, 'penalty': 'l2'}\n"
          ]
        },
        {
          "output_type": "execute_result",
          "data": {
            "text/plain": [
              "LogisticRegressionCV(Cs=500, cv=10, max_iter=500, multi_class='multinomial',\n",
              "                     solver='saga', tol=0.001)"
            ],
            "text/html": [
              "<style>#sk-container-id-9 {color: black;background-color: white;}#sk-container-id-9 pre{padding: 0;}#sk-container-id-9 div.sk-toggleable {background-color: white;}#sk-container-id-9 label.sk-toggleable__label {cursor: pointer;display: block;width: 100%;margin-bottom: 0;padding: 0.3em;box-sizing: border-box;text-align: center;}#sk-container-id-9 label.sk-toggleable__label-arrow:before {content: \"▸\";float: left;margin-right: 0.25em;color: #696969;}#sk-container-id-9 label.sk-toggleable__label-arrow:hover:before {color: black;}#sk-container-id-9 div.sk-estimator:hover label.sk-toggleable__label-arrow:before {color: black;}#sk-container-id-9 div.sk-toggleable__content {max-height: 0;max-width: 0;overflow: hidden;text-align: left;background-color: #f0f8ff;}#sk-container-id-9 div.sk-toggleable__content pre {margin: 0.2em;color: black;border-radius: 0.25em;background-color: #f0f8ff;}#sk-container-id-9 input.sk-toggleable__control:checked~div.sk-toggleable__content {max-height: 200px;max-width: 100%;overflow: auto;}#sk-container-id-9 input.sk-toggleable__control:checked~label.sk-toggleable__label-arrow:before {content: \"▾\";}#sk-container-id-9 div.sk-estimator input.sk-toggleable__control:checked~label.sk-toggleable__label {background-color: #d4ebff;}#sk-container-id-9 div.sk-label input.sk-toggleable__control:checked~label.sk-toggleable__label {background-color: #d4ebff;}#sk-container-id-9 input.sk-hidden--visually {border: 0;clip: rect(1px 1px 1px 1px);clip: rect(1px, 1px, 1px, 1px);height: 1px;margin: -1px;overflow: hidden;padding: 0;position: absolute;width: 1px;}#sk-container-id-9 div.sk-estimator {font-family: monospace;background-color: #f0f8ff;border: 1px dotted black;border-radius: 0.25em;box-sizing: border-box;margin-bottom: 0.5em;}#sk-container-id-9 div.sk-estimator:hover {background-color: #d4ebff;}#sk-container-id-9 div.sk-parallel-item::after {content: \"\";width: 100%;border-bottom: 1px solid gray;flex-grow: 1;}#sk-container-id-9 div.sk-label:hover label.sk-toggleable__label {background-color: #d4ebff;}#sk-container-id-9 div.sk-serial::before {content: \"\";position: absolute;border-left: 1px solid gray;box-sizing: border-box;top: 0;bottom: 0;left: 50%;z-index: 0;}#sk-container-id-9 div.sk-serial {display: flex;flex-direction: column;align-items: center;background-color: white;padding-right: 0.2em;padding-left: 0.2em;position: relative;}#sk-container-id-9 div.sk-item {position: relative;z-index: 1;}#sk-container-id-9 div.sk-parallel {display: flex;align-items: stretch;justify-content: center;background-color: white;position: relative;}#sk-container-id-9 div.sk-item::before, #sk-container-id-9 div.sk-parallel-item::before {content: \"\";position: absolute;border-left: 1px solid gray;box-sizing: border-box;top: 0;bottom: 0;left: 50%;z-index: -1;}#sk-container-id-9 div.sk-parallel-item {display: flex;flex-direction: column;z-index: 1;position: relative;background-color: white;}#sk-container-id-9 div.sk-parallel-item:first-child::after {align-self: flex-end;width: 50%;}#sk-container-id-9 div.sk-parallel-item:last-child::after {align-self: flex-start;width: 50%;}#sk-container-id-9 div.sk-parallel-item:only-child::after {width: 0;}#sk-container-id-9 div.sk-dashed-wrapped {border: 1px dashed gray;margin: 0 0.4em 0.5em 0.4em;box-sizing: border-box;padding-bottom: 0.4em;background-color: white;}#sk-container-id-9 div.sk-label label {font-family: monospace;font-weight: bold;display: inline-block;line-height: 1.2em;}#sk-container-id-9 div.sk-label-container {text-align: center;}#sk-container-id-9 div.sk-container {/* jupyter's `normalize.less` sets `[hidden] { display: none; }` but bootstrap.min.css set `[hidden] { display: none !important; }` so we also need the `!important` here to be able to override the default hidden behavior on the sphinx rendered scikit-learn.org. See: https://github.com/scikit-learn/scikit-learn/issues/21755 */display: inline-block !important;position: relative;}#sk-container-id-9 div.sk-text-repr-fallback {display: none;}</style><div id=\"sk-container-id-9\" class=\"sk-top-container\"><div class=\"sk-text-repr-fallback\"><pre>LogisticRegressionCV(Cs=500, cv=10, max_iter=500, multi_class=&#x27;multinomial&#x27;,\n",
              "                     solver=&#x27;saga&#x27;, tol=0.001)</pre><b>In a Jupyter environment, please rerun this cell to show the HTML representation or trust the notebook. <br />On GitHub, the HTML representation is unable to render, please try loading this page with nbviewer.org.</b></div><div class=\"sk-container\" hidden><div class=\"sk-item\"><div class=\"sk-estimator sk-toggleable\"><input class=\"sk-toggleable__control sk-hidden--visually\" id=\"sk-estimator-id-9\" type=\"checkbox\" checked><label for=\"sk-estimator-id-9\" class=\"sk-toggleable__label sk-toggleable__label-arrow\">LogisticRegressionCV</label><div class=\"sk-toggleable__content\"><pre>LogisticRegressionCV(Cs=500, cv=10, max_iter=500, multi_class=&#x27;multinomial&#x27;,\n",
              "                     solver=&#x27;saga&#x27;, tol=0.001)</pre></div></div></div></div></div>"
            ]
          },
          "metadata": {},
          "execution_count": 80
        }
      ],
      "source": [
        "log_reg_pca = LogisticRegression(\n",
        "    multi_class='multinomial',\n",
        "    solver='saga',\n",
        "    tol=1e-3,\n",
        "    max_iter=500\n",
        ")\n",
        "\n",
        "params = {\n",
        "    'penalty': ['l1', 'l2'],\n",
        "    'C': [500, 250, 100, 50]\n",
        "}\n",
        "\n",
        "gs_pca = GridSearchCV(\n",
        "    estimator=log_reg,\n",
        "    param_grid=params,\n",
        "    scoring='f1_macro'\n",
        ")\n",
        "\n",
        "gs_pca.fit(X_train_pca, y_train)\n",
        "print(f\"Best params: {gs_pca.best_params_}\")\n",
        "\n",
        "log_reg_pca_opt = LogisticRegressionCV(\n",
        "    multi_class='multinomial',\n",
        "    solver='saga',\n",
        "    tol=1e-3,\n",
        "    max_iter=500,\n",
        "    Cs=gs_pca.best_params_['C'],\n",
        "    penalty=gs_pca.best_params_['penalty'],\n",
        "    cv=10\n",
        ")\n",
        "\n",
        "log_reg_pca_opt.fit(X_train_pca, y_train)"
      ]
    },
    {
      "cell_type": "code",
      "source": [
        "preds_train_pca = log_reg_pca_opt.predict(X_train_pca)\n",
        "preds_test_pca = log_reg_pca_opt.predict(X_test_pca)\n",
        "\n",
        "print(f'Optimal Logistic Regression with PCA (n_comp={num_comp}) \\n')\n",
        "print(\"f1-score\")\n",
        "print(f\"Train: {round(f1_score(y_train, preds_train_pca, average='macro'), 5)}\")\n",
        "print(f\"Test: {round(f1_score(y_test, preds_test_pca, average='macro'), 5)}\")\n",
        "print(\"----------\")\n",
        "print(\"Accuracy\")\n",
        "print(f\"Train: {round(accuracy_score(y_train, preds_train_pca), 5)}\")\n",
        "print(f\"Test: {round(accuracy_score(y_test, preds_test_pca), 5)}\")"
      ],
      "metadata": {
        "colab": {
          "base_uri": "https://localhost:8080/"
        },
        "id": "CU3nsXxaK1Td",
        "outputId": "acbee2fc-6276-4e30-b2df-c40cda4854ac"
      },
      "execution_count": null,
      "outputs": [
        {
          "output_type": "stream",
          "name": "stdout",
          "text": [
            "Optimal Logistic Regression with PCA (n_comp=12) \n",
            "\n",
            "f1-score\n",
            "Train: 0.75132\n",
            "Test: 0.73915\n",
            "----------\n",
            "Accuracy\n",
            "Train: 0.7541\n",
            "Test: 0.74074\n"
          ]
        }
      ]
    },
    {
      "cell_type": "markdown",
      "source": [
        "Потеряв чуть больше половины данных, мы потеряли 5-10% точности."
      ],
      "metadata": {
        "id": "_it43S_YOobc"
      }
    },
    {
      "cell_type": "markdown",
      "metadata": {
        "nbgrader": {
          "grade": false,
          "grade_id": "cell-4fbf16c64076e139",
          "locked": true,
          "schema_version": 2,
          "solution": false
        },
        "id": "QFAwoBiC3q_C"
      },
      "source": [
        "#### 2.5. Decision tree\n",
        "* Now train a desicion tree on the same data. Find optimal tree depth (`max_depth`) using cross-validation.\n",
        "\n",
        "* Measure the model quality using the same metrics you used above."
      ]
    },
    {
      "cell_type": "markdown",
      "source": [
        "Подберем не только оптимальную глубину, но и некоторые другие параметры."
      ],
      "metadata": {
        "id": "M_e3Wb3bvX8H"
      }
    },
    {
      "cell_type": "code",
      "source": [
        "from sklearn.tree import DecisionTreeClassifier"
      ],
      "metadata": {
        "id": "U1JIFdUFlIol"
      },
      "execution_count": null,
      "outputs": []
    },
    {
      "cell_type": "code",
      "execution_count": null,
      "metadata": {
        "nbgrader": {
          "grade": true,
          "grade_id": "cell-748ed20b51c67fab",
          "locked": false,
          "points": 15,
          "schema_version": 2,
          "solution": true
        },
        "id": "dY-ArzOa3q_C",
        "colab": {
          "base_uri": "https://localhost:8080/"
        },
        "outputId": "27aefc3b-5355-4d3b-b46a-cad7f5a2c700"
      },
      "outputs": [
        {
          "output_type": "stream",
          "name": "stdout",
          "text": [
            "Best params: {'criterion': 'gini', 'max_depth': 11, 'min_samples_leaf': 2, 'min_samples_split': 3}\n"
          ]
        }
      ],
      "source": [
        "tree = DecisionTreeClassifier()\n",
        "\n",
        "params = {\n",
        "    'criterion': ['gini', 'entropy'],\n",
        "    'max_depth': [i for i in range(5,12)],\n",
        "    'min_samples_split': [i for i in range(2,10)],\n",
        "    'min_samples_leaf': [i for i in range(1,5)]\n",
        "}\n",
        "\n",
        "gs = GridSearchCV(\n",
        "    estimator=tree,\n",
        "    param_grid=params,\n",
        "    scoring='accuracy',\n",
        "    cv=10\n",
        ")\n",
        "\n",
        "gs.fit(X_train_pca, y_train)\n",
        "print(f\"Best params: {gs.best_params_}\")"
      ]
    },
    {
      "cell_type": "code",
      "source": [
        "tree_opt = DecisionTreeClassifier(\n",
        "    criterion='gini',\n",
        "    max_depth=11,\n",
        "    min_samples_leaf=2,\n",
        "    min_samples_split=3\n",
        ")\n",
        "tree_opt.fit(X_train_pca, y_train)\n",
        "\n",
        "preds_train_pca = tree_opt.predict(X_train_pca)\n",
        "preds_test_pca = tree_opt.predict(X_test_pca)\n",
        "\n",
        "print(f'Decision tree opt with PCA \\n')\n",
        "print(\"f1-score\")\n",
        "print(f\"Train: {round(f1_score(y_train, preds_train_pca, average='macro'), 5)}\")\n",
        "print(f\"Test: {round(f1_score(y_test, preds_test_pca, average='macro'), 5)}\")\n",
        "print(\"----------\")\n",
        "print(\"Accuracy\")\n",
        "print(f\"Train: {round(accuracy_score(y_train, preds_train_pca), 5)}\")\n",
        "print(f\"Test: {round(accuracy_score(y_test, preds_test_pca), 5)}\")"
      ],
      "metadata": {
        "colab": {
          "base_uri": "https://localhost:8080/"
        },
        "id": "OaNx10-5rZyz",
        "outputId": "02ec16ee-5368-4a96-f52e-1d5c461f3567"
      },
      "execution_count": null,
      "outputs": [
        {
          "output_type": "stream",
          "name": "stdout",
          "text": [
            "Decision tree opt with PCA \n",
            "\n",
            "f1-score\n",
            "Train: 0.92707\n",
            "Test: 0.61289\n",
            "----------\n",
            "Accuracy\n",
            "Train: 0.92714\n",
            "Test: 0.59259\n"
          ]
        }
      ]
    },
    {
      "cell_type": "markdown",
      "source": [
        "Глубина 11, разумеется, велика, но обобщающая способность такого дерева сохраняется за счет регуляризаций (min_samples_leaf, min_samples_split)."
      ],
      "metadata": {
        "id": "jkrtIFVxw-52"
      }
    },
    {
      "cell_type": "markdown",
      "metadata": {
        "nbgrader": {
          "grade": false,
          "grade_id": "cell-9eadd4d8a03ae67a",
          "locked": true,
          "schema_version": 2,
          "solution": false
        },
        "id": "vXD3BTlM3q_D"
      },
      "source": [
        "#### 2.6. Bagging.\n",
        "Here starts the ensembling part.\n",
        "\n",
        "First we will use the __Bagging__ approach. Build an ensemble of $N$ algorithms varying N from $N_{min}=2$ to $N_{max}=100$ (with step 5).\n",
        "\n",
        "We will build two ensembles: of logistic regressions and of decision trees.\n",
        "\n",
        "*Comment: each ensemble should be constructed from models of the same family, so logistic regressions should not be mixed up with decision trees.*\n",
        "\n",
        "\n",
        "*Hint 1: To build a __Bagging__ ensebmle varying the ensemble size efficiently you might generate $N_{max}$ subsets of `train` data (of the same size as the original dataset) using bootstrap procedure once. Then you train a new instance of logistic regression/decision tree with optimal hyperparameters you estimated before on each subset (so you train it from scratch). Finally, to get an ensemble of $N$ models you average the $N$ out of $N_{max}$ models predictions.*\n",
        "\n",
        "*Hint 2: sklearn might help you with this taks. Some appropriate function/class might be out there.*\n",
        "\n",
        "* Plot `f1` and `accuracy` scores plots w.r.t. the size of the ensemble.\n",
        "\n",
        "* Briefly analyse the plot. What is the optimal number of algorithms? Explain your answer.\n",
        "\n",
        "* How do you think, are the hyperparameters for the decision trees you found in 2.5 optimal for trees used in ensemble?"
      ]
    },
    {
      "cell_type": "markdown",
      "source": [
        "Чтобы избежать переобучения дерева, мы накладываем различные регуляризации на него: глубина, число объектов в листьях и прочее. Когда речь идет об ансамбле деревьев, им можно дать большую свободу $-$ переобучение отдельного дерева ничего критичного не несет, в среднем ансамбль способен показывать высокую обобщающую способность.\n",
        "\n",
        "Поэтому при использовании ансамбля ослабим регуляризации. С логистической регрессией подобных эффектов нет, ее мы просто оставим в покое."
      ],
      "metadata": {
        "id": "Rzru8gtFjc72"
      }
    },
    {
      "cell_type": "code",
      "source": [
        "from collections import Counter\n",
        "\n",
        "def _bootstrap(X, y):\n",
        "    n = X.shape[0]\n",
        "    idxs = np.random.choice(range(0, n), n, replace=True)\n",
        "    return X[idxs], y[idxs]\n",
        "\n",
        "def _aggregate_predictions(preds):\n",
        "    final_preds = []\n",
        "    n = preds.shape[1]\n",
        "    for i in range(n):\n",
        "        col = preds[:, i]\n",
        "        ans = Counter(col).most_common(1)[0][0]\n",
        "        final_preds.append(ans)\n",
        "    return np.array(final_preds)\n",
        "\n",
        "def _create_model(estimator):\n",
        "    if estimator == DecisionTreeClassifier:\n",
        "        return DecisionTreeClassifier(\n",
        "            max_depth=16,\n",
        "            min_samples_leaf=1,\n",
        "            min_samples_split=2\n",
        "        )\n",
        "    elif estimator == LogisticRegressionCV:\n",
        "        return LogisticRegressionCV(\n",
        "            multi_class='multinomial',\n",
        "            solver='saga',\n",
        "            tol=1e-3,\n",
        "            max_iter=500,\n",
        "            cv=3\n",
        "        )\n",
        "    else:\n",
        "        print('Unknown model family')\n",
        "\n",
        "def ensemble_predict(N, estimator):\n",
        "    preds = []\n",
        "    for i in range(N):\n",
        "        model = _create_model(estimator)\n",
        "        X, y = _bootstrap(X_train, y_train)\n",
        "        model.fit(X, y)\n",
        "        preds_i = model.predict(X_test)\n",
        "        preds.append(preds_i)\n",
        "    return _aggregate_predictions(np.array(preds))\n",
        "\n",
        "def ensemble_score(preds):\n",
        "    return round(f1_score(y_test, preds, average='macro'), 5), round(accuracy_score(y_test, preds), 5)"
      ],
      "metadata": {
        "id": "0JK38WA7_W21"
      },
      "execution_count": null,
      "outputs": []
    },
    {
      "cell_type": "code",
      "source": [
        "N_min, N_max = 2, 100\n",
        "N_s = list(range(N_min, N_max, 5))\n",
        "\n",
        "f1_logr, acc_logr = [], []\n",
        "f1_tree, acc_tree = [], []\n",
        "\n",
        "for N in N_s:\n",
        "    pr_tree = ensemble_predict(N, DecisionTreeClassifier)\n",
        "    f1_t, acc_t = ensemble_score(pr_tree)\n",
        "    f1_tree.append(f1_t)\n",
        "    acc_tree.append(acc_t)\n",
        "\n",
        "    pr_logr = ensemble_predict(N, LogisticRegressionCV)\n",
        "    f1_l, acc_l = ensemble_score(pr_logr)\n",
        "    f1_logr.append(f1_l)\n",
        "    acc_logr.append(acc_l)"
      ],
      "metadata": {
        "id": "ZdZKuTqaOzqr"
      },
      "execution_count": null,
      "outputs": []
    },
    {
      "cell_type": "code",
      "source": [
        "fig, axs = plt.subplots(1, 2, figsize=(15, 5))\n",
        "\n",
        "axs[0].plot(N_s, f1_tree, color='green', label='Decision tree')\n",
        "axs[0].plot(N_s, f1_logr, color='blue', label='Logistic regression')\n",
        "axs[0].axvline(x=7, color='red', label='N = 7')\n",
        "axs[0].set_title('F1 score')\n",
        "axs[0].legend()\n",
        "\n",
        "axs[1].plot(N_s, acc_tree, color='green', label='Decision tree')\n",
        "axs[1].plot(N_s, acc_logr, color='blue', label='Logistic regression')\n",
        "axs[1].axvline(x=7, color='red', label='N = 7')\n",
        "axs[1].set_title('Accuracy score')\n",
        "axs[1].legend()\n",
        "\n",
        "plt.show()"
      ],
      "metadata": {
        "colab": {
          "base_uri": "https://localhost:8080/",
          "height": 468
        },
        "id": "RMeHePdes7YL",
        "outputId": "998dd921-1635-42b7-d87a-4baf6dd9cea7"
      },
      "execution_count": null,
      "outputs": [
        {
          "output_type": "display_data",
          "data": {
            "text/plain": [
              "<Figure size 1500x500 with 2 Axes>"
            ],
            "image/png": "[encoded data removed]"
          },
          "metadata": {}
        }
      ]
    },
    {
      "cell_type": "markdown",
      "source": [
        "Основные поинты:\n",
        "\n",
        "1. Бэггинг не меняет bias, но снижает varience, поэтому особенно эффективен для моделей с сильной дисперсией. В нашем эксперименте бэггинг практически не сказался на качестве предсказания логистической регрессии: как было около 80%, так и осталось. При этом точность предсказания деревьев выросла на 10-12%.\n",
        "\n",
        "2. Уменьшение разброса ответов, конечно, хорошо, но начиная с некоторого момента уменьшение этой ошибки почти не сказывается на качестве предсказания $-$ куда больший вклад в ошибку дает смещение и шум. При этом увеличение числа базовых моделей в ансамбле негативно сказывается на потребляемых ресурсах.\n",
        "\n",
        "3. В эксперименте наблюдается следующее: обе модели показывают рост точности с ростом $N$, но это справедливо лишь для малых $N$, дальше начинаются колебания вокруг некоторого среднего. Я бы выбрал за оптимальное число  $N = 7$, потому что оно весьма невелико и показывает ощутимый прирост качества по сравнению с $N = 1$."
      ],
      "metadata": {
        "id": "_d7Yzy7Jwdbb"
      }
    },
    {
      "cell_type": "markdown",
      "metadata": {
        "nbgrader": {
          "grade": false,
          "grade_id": "cell-241b7691ab44cbfb",
          "locked": true,
          "schema_version": 2,
          "solution": false
        },
        "id": "p93_qVB43q_D"
      },
      "source": [
        "#### 2.7. Random Forest\n",
        "Now we will work with the Random Forest (its `sklearn` implementation).\n",
        "\n",
        "* * Plot `f1` and `accuracy` scores plots w.r.t. the number of trees in Random Forest.\n",
        "\n",
        "* What is the optimal number of trees you've got? Is it different from the optimal number of logistic regressions/decision trees in 2.6? Explain the results briefly."
      ]
    },
    {
      "cell_type": "markdown",
      "source": [
        "Для начала найдем оптимальную глубину деревьев."
      ],
      "metadata": {
        "id": "3QNPCURbWUCj"
      }
    },
    {
      "cell_type": "code",
      "source": [
        "from sklearn.ensemble import RandomForestClassifier"
      ],
      "metadata": {
        "id": "DNfBWZbvkyoJ"
      },
      "execution_count": null,
      "outputs": []
    },
    {
      "cell_type": "code",
      "execution_count": null,
      "metadata": {
        "nbgrader": {
          "grade": true,
          "grade_id": "cell-888755d0f3d91620",
          "locked": false,
          "points": 15,
          "schema_version": 2,
          "solution": true
        },
        "id": "B5OrwOoz3q_E",
        "colab": {
          "base_uri": "https://localhost:8080/"
        },
        "outputId": "90cf1e62-f425-437b-c9aa-a97ba689b802"
      },
      "outputs": [
        {
          "output_type": "stream",
          "name": "stdout",
          "text": [
            "depth = 3:\n",
            "f1 = 0.629, accuracy = 0.6633\n",
            "depth = 4:\n",
            "f1 = 0.6511, accuracy = 0.68013\n",
            "depth = 5:\n",
            "f1 = 0.66136, accuracy = 0.68687\n",
            "depth = 6:\n",
            "f1 = 0.70305, accuracy = 0.72054\n",
            "depth = 7:\n",
            "f1 = 0.70345, accuracy = 0.72054\n",
            "depth = 8:\n",
            "f1 = 0.69394, accuracy = 0.71044\n",
            "depth = 9:\n",
            "f1 = 0.68833, accuracy = 0.7037\n",
            "depth = 10:\n",
            "f1 = 0.68871, accuracy = 0.70707\n",
            "depth = 11:\n",
            "f1 = 0.72279, accuracy = 0.73737\n",
            "depth = 12:\n",
            "f1 = 0.71389, accuracy = 0.73064\n",
            "depth = 13:\n",
            "f1 = 0.6953, accuracy = 0.71044\n",
            "depth = 14:\n",
            "f1 = 0.67405, accuracy = 0.6936\n"
          ]
        }
      ],
      "source": [
        "for depth in range(3, 15):\n",
        "    forest = RandomForestClassifier(max_depth=depth)\n",
        "    forest.fit(X_train, y_train)\n",
        "    preds = forest.predict(X_test)\n",
        "    print(f'depth = {depth}:')\n",
        "    f1, acc = round(f1_score(y_test, preds, average='macro'), 5), round(accuracy_score(y_test, preds), 5)\n",
        "    print(f'f1 = {f1}, accuracy = {acc}')"
      ]
    },
    {
      "cell_type": "markdown",
      "source": [
        "Лучший результат показала depth=11. Теперь переберм число деревьев в лесу. Для большей стабильности проведем эксперимент $N=10$ раз и усредним результаты."
      ],
      "metadata": {
        "id": "bwSbsdb5dM4i"
      }
    },
    {
      "cell_type": "code",
      "source": [
        "num_trees = list(range(2, 101, 2))\n",
        "opt_depth = 11\n",
        "f1_scores_avg, acc_scores_avg = [0 for i in range(len(num_trees))], [0 for i in range(len(num_trees))]\n",
        "\n",
        "N = 10\n",
        "for k in range(N):\n",
        "    for i, num in enumerate(num_trees):\n",
        "        forest = RandomForestClassifier(max_depth=opt_depth, n_estimators=num)\n",
        "        forest.fit(X_train, y_train)\n",
        "        preds = forest.predict(X_test)\n",
        "        f1, acc = f1_score(y_test, preds, average='macro'), accuracy_score(y_test, preds)\n",
        "        f1_scores_avg[i] += f1 / N\n",
        "        acc_scores_avg[i] += acc / N"
      ],
      "metadata": {
        "id": "h9nKDFUrXhZ6"
      },
      "execution_count": null,
      "outputs": []
    },
    {
      "cell_type": "code",
      "source": [
        "fig, axs = plt.subplots(1, 1, figsize=(8, 5))\n",
        "\n",
        "axs.plot(num_trees, f1_scores_avg, color='green', label='F1 score')\n",
        "axs.plot(num_trees, acc_scores_avg, color='blue', label='Accuracy score')\n",
        "axs.legend()\n",
        "\n",
        "plt.xlabel('Number of trees')\n",
        "plt.ylabel('Score')\n",
        "plt.title('Random forest')\n",
        "plt.show()"
      ],
      "metadata": {
        "colab": {
          "base_uri": "https://localhost:8080/",
          "height": 487
        },
        "id": "boEtBUeyZEmR",
        "outputId": "86888738-591b-4807-8058-5287cc775956"
      },
      "execution_count": null,
      "outputs": [
        {
          "output_type": "display_data",
          "data": {
            "text/plain": [
              "<Figure size 800x500 with 1 Axes>"
            ],
            "image/png": "[encoded data removed]"
          },
          "metadata": {}
        }
      ]
    },
    {
      "cell_type": "markdown",
      "source": [
        "Видим, что после 30-40 деревьев качество не улучшается."
      ],
      "metadata": {
        "id": "e6Yed5i3ev95"
      }
    },
    {
      "cell_type": "markdown",
      "metadata": {
        "nbgrader": {
          "grade": false,
          "grade_id": "cell-99191c0852538d4d",
          "locked": true,
          "schema_version": 2,
          "solution": false
        },
        "id": "_yXpJvdZ3q_E"
      },
      "source": [
        "#### 2.8. Learning curve\n",
        "Your goal is to estimate, how does the model behaviour change with the increase of the `train` dataset size.\n",
        "\n",
        "* Split the training data into 10 equal (almost) parts. Then train the models from above (Logistic regression, Desicion Tree, Random Forest) with optimal hyperparameters you have selected on 1 part, 2 parts (combined, so the train size in increased by 2 times), 3 parts and so on.\n",
        "\n",
        "* Build a plot of `accuracy` and `f1` scores on `test` part, varying the `train` dataset size (so the axes will be score - dataset size.\n",
        "\n",
        "* Analyse the final plot. Can you make any conlusions using it?"
      ]
    },
    {
      "cell_type": "code",
      "source": [
        "bounds = [round(k) for k in np.linspace(X_train.shape[0]/10, X_train.shape[0], 10)]\n",
        "f1_tree, acc_tree = [0] * 10, [0] * 10\n",
        "f1_forest, acc_forest = [0] * 10, [0] * 10\n",
        "f1_lr, acc_lr = [0] * 10, [0] * 10\n",
        "\n",
        "N = 50\n",
        "for _ in range(N):\n",
        "    for i in range(10):\n",
        "\n",
        "            idxs = np.random.choice(range(0, X_train.shape[0]), bounds[i], replace=True)\n",
        "\n",
        "            lr = LogisticRegression(\n",
        "                multi_class='multinomial',\n",
        "                solver='saga',\n",
        "                tol=1e-3,\n",
        "                max_iter=500\n",
        "            )\n",
        "            lr.fit(X_train[idxs], y_train[idxs])\n",
        "            pred_lr = lr.predict(X_test)\n",
        "            a, b = f1_score(y_test, pred_lr, average='macro'), accuracy_score(y_test, pred_lr)\n",
        "            f1_lr[i] += a / N\n",
        "            acc_lr[i] += b / N\n",
        "\n",
        "            tree = DecisionTreeClassifier(max_depth=11, min_samples_leaf=2, min_samples_split=3)\n",
        "            tree.fit(X_train[idxs], y_train[idxs])\n",
        "            pred_tree = tree.predict(X_test)\n",
        "            a, b = f1_score(y_test, pred_tree, average='macro'), accuracy_score(y_test, pred_tree)\n",
        "            f1_tree[i] += a / N\n",
        "            acc_tree[i] += b / N\n",
        "\n",
        "            forest = RandomForestClassifier(max_depth=11, n_estimators=40)\n",
        "            forest.fit(X_train[idxs], y_train[idxs])\n",
        "            pred_forest = forest.predict(X_test)\n",
        "            a, b = f1_score(y_test, pred_forest, average='macro'), accuracy_score(y_test, pred_forest)\n",
        "            f1_forest[i] += a / N\n",
        "            acc_forest[i] += b / N"
      ],
      "metadata": {
        "id": "K3MBM5kZnFzO"
      },
      "execution_count": null,
      "outputs": []
    },
    {
      "cell_type": "code",
      "source": [
        "fig, axs = plt.subplots(1, 2, figsize=(15, 5))\n",
        "\n",
        "axs[0].plot(bounds, f1_lr, color='blue', label='Logistic regression')\n",
        "axs[0].plot(bounds, f1_tree, color='green', label='Decision tree')\n",
        "axs[0].plot(bounds, f1_forest, color='orange', label='Random forest')\n",
        "axs[0].set_xlabel('Train data size')\n",
        "axs[0].set_ylabel('Score')\n",
        "axs[0].set_title('F1 score')\n",
        "axs[0].legend()\n",
        "\n",
        "axs[1].plot(bounds, acc_lr, color='blue', label='Logistic regression')\n",
        "axs[1].plot(bounds, acc_tree, color='green', label='Decision tree')\n",
        "axs[1].plot(bounds, acc_forest, color='orange', label='Random forest')\n",
        "axs[1].set_xlabel('Train data size')\n",
        "axs[1].set_ylabel('Score')\n",
        "axs[1].set_title('Accuracy score')\n",
        "axs[1].legend()\n",
        "\n",
        "plt.show()"
      ],
      "metadata": {
        "colab": {
          "base_uri": "https://localhost:8080/",
          "height": 487
        },
        "id": "h6N0H1o3qJfF",
        "outputId": "fce6847f-17fe-4342-cad9-1deef053212e"
      },
      "execution_count": null,
      "outputs": [
        {
          "output_type": "display_data",
          "data": {
            "text/plain": [
              "<Figure size 1500x500 with 2 Axes>"
            ],
            "image/png": "[encoded data removed]"
          },
          "metadata": {}
        }
      ]
    },
    {
      "cell_type": "markdown",
      "metadata": {
        "id": "2PIFo9dI3q_O"
      },
      "source": [
        "#### 2.9. Boosting\n",
        "Your goal is to build a boosting ensemble using xgboost, CatBoost or lightgbm package.\n",
        "Please, do not use the sklearn API for these models.\n",
        "\n",
        "Find optimal number of decision trees in the boosting ensembe using grid search or other methods.\n",
        "Please, explain your answer."
      ]
    },
    {
      "cell_type": "code",
      "execution_count": null,
      "metadata": {
        "id": "-dkw1ZZy3q_P"
      },
      "outputs": [],
      "source": [
        "!pip install catboost"
      ]
    },
    {
      "cell_type": "code",
      "source": [
        "from catboost import CatBoostClassifier\n",
        "\n",
        "catboost_basic = CatBoostClassifier(\n",
        "    n_estimators=100,\n",
        "    max_depth=3,\n",
        "    verbose=0\n",
        ")\n",
        "\n",
        "catboost_basic.fit(X_train, y_train)\n",
        "score(catboost_basic)"
      ],
      "metadata": {
        "colab": {
          "base_uri": "https://localhost:8080/"
        },
        "id": "fnWqclR_Pshz",
        "outputId": "89bcc82a-f2e9-420f-dee2-96185ca17e61"
      },
      "execution_count": null,
      "outputs": [
        {
          "output_type": "stream",
          "name": "stdout",
          "text": [
            "f1-score\n",
            "Train: 0.98373\n",
            "Test: 0.77919\n",
            "----------\n",
            "Accuracy\n",
            "Train: 0.98361\n",
            "Test: 0.78114\n"
          ]
        }
      ]
    },
    {
      "cell_type": "markdown",
      "source": [
        "Найдем оптимальные параметры с помощью Grid Search. Для начала определимся с числом деревьев и их глубиной."
      ],
      "metadata": {
        "id": "kR94cy69U-UI"
      }
    },
    {
      "cell_type": "code",
      "source": [
        "params = {\n",
        "    'depth': [3, 4],\n",
        "    'n_estimators': [200, 250, 300, 400, 500, 600, 700]\n",
        "}\n",
        "\n",
        "catboost_model = CatBoostClassifier(\n",
        "    verbose=0\n",
        ")\n",
        "\n",
        "gs_cb = GridSearchCV(\n",
        "    estimator=catboost_model,\n",
        "    param_grid=params,\n",
        "    scoring='accuracy',\n",
        "    cv=3\n",
        ")\n",
        "\n",
        "gs_cb.fit(X_train, y_train)\n",
        "print('Best parameters: ', gs_cb.best_params_)\n",
        "\n",
        "catboost_first = CatBoostClassifier(\n",
        "    n_estimators=gs_cb.best_params_['n_estimators'],\n",
        "    depth=gs_cb.best_params_['depth'],\n",
        "    verbose=0\n",
        ")\n",
        "catboost_first.fit(X_train, y_train)\n",
        "score(catboost_first, '1st GS iteration')"
      ],
      "metadata": {
        "colab": {
          "base_uri": "https://localhost:8080/"
        },
        "id": "bLz3gSP9hh6t",
        "outputId": "fa72bf83-bddd-4ead-a0fd-a964c3129ac2"
      },
      "execution_count": null,
      "outputs": [
        {
          "output_type": "stream",
          "name": "stdout",
          "text": [
            "Best parameters:  {'depth': 4, 'n_estimators': 500}\n",
            "1st GS iteration \n",
            "\n",
            "f1-score\n",
            "Train: 1.0\n",
            "Test: 0.8035\n",
            "----------\n",
            "Accuracy\n",
            "Train: 1.0\n",
            "Test: 0.80471\n"
          ]
        }
      ]
    },
    {
      "cell_type": "markdown",
      "source": [
        "Попробуем дотюнить с помощью изменения коэффициента регуляризации и агрессивности бэггинга."
      ],
      "metadata": {
        "id": "5evqq8oeihXm"
      }
    },
    {
      "cell_type": "code",
      "source": [
        "params = {\n",
        "    'l2_leaf_reg': [2.2, 2.4, 2.6, 2.8, 3.0],\n",
        "    'bagging_temperature': [1.0, 1.1, 1.2, 1.3]\n",
        "\n",
        "}\n",
        "\n",
        "catboost_model = CatBoostClassifier(\n",
        "    n_estimators=500,\n",
        "    depth=4,\n",
        "    learning_rate=1,\n",
        "    verbose=0\n",
        ")\n",
        "\n",
        "gs_cb = GridSearchCV(\n",
        "    estimator=catboost_model,\n",
        "    param_grid=params,\n",
        "    scoring='accuracy',\n",
        "    cv=3\n",
        ")\n",
        "\n",
        "gs_cb.fit(X_train, y_train)\n",
        "print('Best parameters: ', gs_cb.best_params_)"
      ],
      "metadata": {
        "colab": {
          "base_uri": "https://localhost:8080/"
        },
        "id": "2sFuaqDcR_Ng",
        "outputId": "52323f90-17a1-42c2-d935-e67fbea863b3"
      },
      "execution_count": null,
      "outputs": [
        {
          "output_type": "stream",
          "name": "stdout",
          "text": [
            "Best parameters:  {'bagging_temperature': 1.2, 'l2_leaf_reg': 2.6}\n"
          ]
        }
      ]
    },
    {
      "cell_type": "code",
      "source": [
        "catboost_opt = CatBoostClassifier(\n",
        "    n_estimators=500,\n",
        "    depth=4,\n",
        "    learning_rate=1,\n",
        "    l2_leaf_reg=2.4,\n",
        "    bagging_temperature=1.2,\n",
        "    verbose=0\n",
        ")\n",
        "catboost_opt.fit(X_train, y_train)\n",
        "score(catboost_opt, 'Catboost with optimal parameters')"
      ],
      "metadata": {
        "colab": {
          "base_uri": "https://localhost:8080/"
        },
        "id": "lpB9AxtcvS2A",
        "outputId": "46ed95e0-2b4a-4372-ee97-033419c7cc5e"
      },
      "execution_count": null,
      "outputs": [
        {
          "output_type": "stream",
          "name": "stdout",
          "text": [
            "Catboost with optimal parameters \n",
            "\n",
            "f1-score\n",
            "Train: 1.0\n",
            "Test: 0.81673\n",
            "----------\n",
            "Accuracy\n",
            "Train: 1.0\n",
            "Test: 0.81818\n"
          ]
        }
      ]
    },
    {
      "cell_type": "markdown",
      "source": [
        "Бустинг показал наибольшую точность среди всех рассмотренных в этой лабораторной работе методов."
      ],
      "metadata": {
        "id": "gGS6qWYktRil"
      }
    }
  ],
  "metadata": {
    "celltoolbar": "Create Assignment",
    "kernelspec": {
      "display_name": "Python 3",
      "language": "python",
      "name": "python3"
    },
    "language_info": {
      "codemirror_mode": {
        "name": "ipython",
        "version": 3
      },
      "file_extension": ".py",
      "mimetype": "text/x-python",
      "name": "python",
      "nbconvert_exporter": "python",
      "pygments_lexer": "ipython3",
      "version": "3.8.10"
    },
    "toc": {
      "base_numbering": 1,
      "nav_menu": {},
      "number_sections": false,
      "sideBar": true,
      "skip_h1_title": false,
      "title_cell": "Table of Contents",
      "title_sidebar": "Contents",
      "toc_cell": false,
      "toc_position": {},
      "toc_section_display": true,
      "toc_window_display": false
    },
    "colab": {
      "provenance": []
    }
  },
  "nbformat": 4,
  "nbformat_minor": 0
}